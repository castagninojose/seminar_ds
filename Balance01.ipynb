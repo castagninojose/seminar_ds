{
  "cells": [
    {
      "cell_type": "markdown",
      "metadata": {
        "id": "view-in-github",
        "colab_type": "text"
      },
      "source": [
        "<a href=\"https://colab.research.google.com/github/castagninojose/seminar_ds/blob/master/Balance01.ipynb\" target=\"_parent\"><img src=\"https://colab.research.google.com/assets/colab-badge.svg\" alt=\"Open In Colab\"/></a>"
      ]
    },
    {
      "cell_type": "code",
      "execution_count": null,
      "metadata": {
        "cellView": "form",
        "id": "qeAxaGjiBlv5"
      },
      "outputs": [],
      "source": [
        "#@title\n",
        "from itertools import combinations\n",
        "import numpy as np\n",
        "import plotly.express as px"
      ]
    },
    {
      "cell_type": "code",
      "execution_count": null,
      "metadata": {
        "cellView": "form",
        "id": "NNpSbfWaC7XC"
      },
      "outputs": [],
      "source": [
        "#@title\n",
        "def pelea(jugador1, jugador2):\n",
        "    critico = 0\n",
        "    extra = 0\n",
        "    #print(rango)\n",
        "    player1 = BaseGladiator(jugador1)\n",
        "    player2 = BaseGladiator(jugador2)\n",
        "    fuerza = np.array([player1.fuerza, player2.fuerza])\n",
        "    armadura = np.array([player1.armadura, player2.armadura])\n",
        "    destreza = np.array([player1.destreza, player2.destreza])\n",
        "    vida = np.array([player1.vida, player2.vida])\n",
        "    rango = np.array([player1.rango, player2.rango])\n",
        "    stun = np.array([player1.stun, player2.stun])\n",
        "\n",
        "    if (player1.rango + player2.rango == 1):\n",
        "        j = np.argmin(rango)\n",
        "        i = np.argmax(rango)\n",
        "        extra = 1\n",
        "        #print(i,j)\n",
        "    else:\n",
        "        i = np.random.randint(2)\n",
        "        j = np.abs(i -1)\n",
        "\n",
        "    while ((vida[0] > 0) & (vida[1] > 0)):\n",
        "        tirada = np.random.randint(200)\n",
        "        #print(f'la tirada es = {tirada}')\n",
        "        probstun = np.random.randint(stun[i])\n",
        "        if probstun/100 >= .1:\n",
        "            extra = 1 \n",
        "            critico = 1\n",
        "        pega_o_no  = tirada  - destreza[j]\n",
        "        if tirada >= 197:\n",
        "            critico = 1\n",
        "        if critico == 1:\n",
        "            tirada_2 = np.random.randint(100) + fuerza[i] - armadura[j]\n",
        "            maximo = np.maximum(tirada_2, 40)\n",
        "\n",
        "            vida[j] = vida[j] - maximo       \n",
        "        elif pega_o_no > 0:\n",
        "            tirada_2 = np.random.randint(50) + fuerza[i] - armadura[j]\n",
        "            maximo = np.maximum(tirada_2, 20)\n",
        "\n",
        "            vida[j] = vida[j] - maximo\n",
        "        if extra == 1:\n",
        "            extra = 0\n",
        "        else:\n",
        "            aux = i\n",
        "            i = j\n",
        "            j = aux\n",
        "        critico = 0\n",
        "        extra = 0 \n",
        "    return vida"
      ]
    },
    {
      "cell_type": "code",
      "execution_count": null,
      "metadata": {
        "cellView": "form",
        "id": "uMhvcL8eBxMP"
      },
      "outputs": [],
      "source": [
        "#@title\n",
        "def pelea2(jugador1, jugador2):\n",
        "    i = np.random.randint(2)\n",
        "    j = np.abs(i - 1)\n",
        "    fuerza = np.array([0, 0])\n",
        "    armadura = np.array([0, 0])\n",
        "    destreza = np.array([0,0])\n",
        "    vida = np.array([0,0])\n",
        "    rango = np.array([0, 0])\n",
        "    stun = np.array([0,0])\n",
        "\n",
        "    fuerza[0] = jugador1[0]\n",
        "    armadura[0] = jugador1[1]\n",
        "    destreza[0] = jugador1[2]\n",
        "    vida[0] = jugador1[3]\n",
        "    rango[0] = jugador1[4]\n",
        "    stun[0] = jugador1[5]\n",
        "\n",
        "    fuerza[1] = jugador2[0]\n",
        "    armadura[1] = jugador2[1]\n",
        "    destreza[1] = jugador2[2]\n",
        "    vida[1] = jugador2[3]\n",
        "    rango[1] = jugador2[4]\n",
        "    stun[1] = jugador2[5]\n",
        "    critico = 0\n",
        "    extra = 0\n",
        "    #print(rango)\n",
        "    if (rango[0] != rango[1]):\n",
        "      j = np.argmin(rango)\n",
        "      i = np.argmax(rango)\n",
        "      extra = 1\n",
        "\n",
        "    while ((vida[1] > 0) & (vida[0] > 0)):\n",
        "        tirada = np.random.randint(200)\n",
        "        #print(f'la tirada es = {tirada}')\n",
        "        probstun = np.random.randint(stun[i])\n",
        "        if probstun/100 >= .1:\n",
        "          extra = 1 \n",
        "          critico = 1\n",
        "          print(f'el jugador {i} stunea')\n",
        "        pega_o_no  = tirada  - destreza[j]\n",
        "        if tirada >= 197:\n",
        "            critico = 1\n",
        "            print(f'el jugador {i} pega crítico')\n",
        "        if critico == 1:\n",
        "            tirada_2 = np.random.randint(100) + fuerza[i] - armadura[j]\n",
        "            maximo = np.maximum(tirada_2, 40)\n",
        "            print(f'pega el jugador {i} por {maximo}')\n",
        "            vida[j] = vida[j] - maximo       \n",
        "        elif pega_o_no > 0:\n",
        "            tirada_2 = np.random.randint(50) + fuerza[i] - armadura[j]\n",
        "            maximo = np.maximum(tirada_2, 20)\n",
        "            print(f'pega el jugador {i} por {maximo}')\n",
        "            vida[j] = vida[j] - maximo\n",
        "        else:\n",
        "          print(f'el jugador {i} pifia')\n",
        "        if extra == 1:\n",
        "          extra = 0\n",
        "          print(f'el jugador {i} golpea de nuevo')\n",
        "        else:\n",
        "          aux = i\n",
        "          i = j\n",
        "          j = aux\n",
        "        critico = 0\n",
        "        extra = 0 \n",
        "    return(vida)"
      ]
    },
    {
      "cell_type": "code",
      "execution_count": null,
      "metadata": {
        "cellView": "form",
        "id": "T6LOHiAa_BW1"
      },
      "outputs": [],
      "source": [
        "#@title\n",
        "def pelea3(jugador1, jugador2):\n",
        "    i = np.random.randint(2)\n",
        "    j = np.abs(i -1)\n",
        "    fuerza = np.array([0, 0])\n",
        "    armadura = np.array([0, 0])\n",
        "    destreza = np.array([0,0])\n",
        "    vida = np.array([0,0])\n",
        "    rango = np.array([0, 0])\n",
        "    stun = np.array([0,0])\n",
        "\n",
        "    fuerza[0] = jugador1[0]\n",
        "    armadura[0] = jugador1[1]\n",
        "    destreza[0] = jugador1[2]\n",
        "    vida[0] = jugador1[3]\n",
        "    rango[0] = jugador1[4]\n",
        "    stun[0] = jugador1[5]\n",
        "\n",
        "    fuerza[1] = jugador2[0]\n",
        "    armadura[1] = jugador2[1]\n",
        "    destreza[1] = jugador2[2]\n",
        "    vida[1] = jugador2[3]\n",
        "    rango[1] = jugador2[4]\n",
        "    stun[1] = jugador2[5]\n",
        "    critico = 0\n",
        "    extra = 0\n",
        "    #print(rango)\n",
        "    if (rango[0] + rango[1] == 1):\n",
        "      j = np.argmin(rango)\n",
        "      i = np.argmax(rango)\n",
        "      extra = 1\n",
        "      #print(i,j)\n",
        "\n",
        "\n",
        "    while ((vida[1] > 0) & (vida[0] > 0)):\n",
        "        tirada = np.random.randint(200)\n",
        "        #print(f'la tirada es = {tirada}')\n",
        "        probstun = np.random.randint(stun[i])\n",
        "        if probstun/100 >= .1:\n",
        "          extra = 1 \n",
        "          critico = 1\n",
        "          #print('stun')\n",
        "        pega_o_no  = tirada  - destreza[j]\n",
        "        if tirada >= 197:\n",
        "            critico = 1\n",
        "            #print('critico')\n",
        "        if critico == 1:\n",
        "            tirada_2 = np.random.randint(100) + fuerza[i] - armadura[j]\n",
        "            maximo = np.maximum(tirada_2, 40)\n",
        "            #print(f'pega el jugador {i} por {maximo}')\n",
        "            vida[j] = vida[j] - maximo       \n",
        "        elif pega_o_no > 0:\n",
        "            tirada_2 = np.random.randint(50) + fuerza[i] - armadura[j]\n",
        "            maximo = np.maximum(tirada_2, 20)\n",
        "            #print(f'pega el jugador {i} por {maximo}')\n",
        "            vida[j] = vida[j] - maximo\n",
        "        if extra == 1:\n",
        "          extra = 0\n",
        "        else:\n",
        "          aux = i\n",
        "          i = j\n",
        "          j = aux\n",
        "        critico = 0\n",
        "        extra = 0\n",
        "    return(vida)"
      ]
    },
    {
      "cell_type": "code",
      "execution_count": null,
      "metadata": {
        "cellView": "form",
        "id": "wIwzUCghC_ZX"
      },
      "outputs": [],
      "source": [
        "#@title\n",
        "def simulacion(player1, player2, n):\n",
        "  rv = np.array([0, 0])\n",
        "  for k in range(n):\n",
        "        round = pelea(player1, player2)\n",
        "        #print(rv)\n",
        "        if round[0] > round[1]:\n",
        "            rv[0] += 1\n",
        "        else:\n",
        "            rv[1] += 1\n",
        "  return(rv)\n",
        "    \n"
      ]
    },
    {
      "cell_type": "code",
      "execution_count": null,
      "metadata": {
        "id": "zeHrNAoIxIn5"
      },
      "outputs": [],
      "source": [
        "# fuerza, armadura, destreza, vida, rango, stun #\n",
        "class BaseGladiator:\n",
        "    def __init__(self, atributos):\n",
        "        self.fuerza = atributos[0]\n",
        "        self.armadura = atributos[1]\n",
        "        self.destreza = atributos[2]\n",
        "        self.vida = atributos[3]\n",
        "        self.rango = atributos[4]\n",
        "        self.stun = atributos[5]\n",
        "        self.orden = atributos[6]\n",
        "\n",
        "\n",
        "class FightersTuple:\n",
        "    def __init__(self, player1, player2):\n",
        "        self.fuerza = np.array([player1.fuerza, player2.fuerza])\n",
        "        self.armadura = np.array([player1.armadura, player2.armadura])\n",
        "        self.destreza = np.array([player1.destreza, player2.destreza])\n",
        "        self.vida = np.array([player1.vida, player2.vida])\n",
        "        self.rango = np.array([player1.rango, player2.rango])\n",
        "        self.stun = np.array([player1.stun, player2.stun])\n",
        "\n",
        "GLADIATORS_DICT = dict(\n",
        "Scissor = np.array([ 85  , 37 ,  64 , 114 ,  0 ,  2  , 0]),\n",
        "Murmillo = np.array([ 54 , 66 , 20 , 160  , 0 ,  2 ,  1]),\n",
        "Tracio = np.array([ 83 , 38 , 46, 133 ,  0  , 2  , 2]),\n",
        "Hoplomachis = np.array([53, 44, 80, 113, 1, 2,3]),\n",
        "Provocator = np.array([ 63 , 58 , 49 ,130 ,  0 ,  2  , 4]),\n",
        "Reciario = np.array([10, 30, 55, 110,  1, 15,5]),\n",
        "Crupellarius = np.array([45, 75, 35, 145,  0, 2,6]),\n",
        "Cestus = np.array([ 46 , 49 , 50, 100 ,  0 , 15 ,  7]),\n",
        "Lauquerius = np.array([72, 34 ,48, 92 , 0, 15 , 8]),\n",
        "Secutor = np.array([ 50 , 69 , 45 , 141 ,  0  , 2 ,  9]),\n",
        ")\n",
        "#Test = np.array([0,0,0,0,0,0]) \n",
        "##stun vale 55, rango vale 10 rango y stun vale 95"
      ]
    },
    {
      "cell_type": "code",
      "execution_count": null,
      "metadata": {
        "colab": {
          "base_uri": "https://localhost:8080/",
          "height": 502
        },
        "id": "vGB3zWeui3jd",
        "outputId": "6182749b-f881-4845-ef52-e455932e709d"
      },
      "outputs": [
        {
          "output_type": "stream",
          "name": "stdout",
          "text": [
            " Scissor 4949 vs Murmillo 5051\n",
            " Scissor 5148 vs Tracio 4852\n",
            " Scissor 4456 vs Hoplomachis 5544\n",
            " Scissor 4955 vs Provocator 5045\n",
            " Scissor 5252 vs Reciario 4748\n",
            " Scissor 4947 vs Crupellarius 5053\n",
            " Scissor 5380 vs Cestus 4620\n"
          ]
        },
        {
          "output_type": "error",
          "ename": "KeyboardInterrupt",
          "evalue": "ignored",
          "traceback": [
            "\u001b[0;31m---------------------------------------------------------------------------\u001b[0m",
            "\u001b[0;31mKeyboardInterrupt\u001b[0m                         Traceback (most recent call last)",
            "\u001b[0;32m<ipython-input-8-fe3338d06333>\u001b[0m in \u001b[0;36m<module>\u001b[0;34m()\u001b[0m\n\u001b[1;32m      3\u001b[0m \u001b[0;34m\u001b[0m\u001b[0m\n\u001b[1;32m      4\u001b[0m \u001b[0;32mfor\u001b[0m \u001b[0;34m(\u001b[0m\u001b[0mgladiador1\u001b[0m\u001b[0;34m,\u001b[0m \u001b[0mgladiador2\u001b[0m\u001b[0;34m)\u001b[0m \u001b[0;32min\u001b[0m \u001b[0mcombinations\u001b[0m\u001b[0;34m(\u001b[0m\u001b[0mGLADIATORS_DICT\u001b[0m\u001b[0;34m.\u001b[0m\u001b[0mkeys\u001b[0m\u001b[0;34m(\u001b[0m\u001b[0;34m)\u001b[0m\u001b[0;34m,\u001b[0m \u001b[0;36m2\u001b[0m\u001b[0;34m)\u001b[0m\u001b[0;34m:\u001b[0m\u001b[0;34m\u001b[0m\u001b[0;34m\u001b[0m\u001b[0m\n\u001b[0;32m----> 5\u001b[0;31m     \u001b[0msimul\u001b[0m \u001b[0;34m=\u001b[0m \u001b[0msimulacion\u001b[0m\u001b[0;34m(\u001b[0m\u001b[0mGLADIATORS_DICT\u001b[0m\u001b[0;34m[\u001b[0m\u001b[0mgladiador1\u001b[0m\u001b[0;34m]\u001b[0m\u001b[0;34m,\u001b[0m \u001b[0mGLADIATORS_DICT\u001b[0m\u001b[0;34m[\u001b[0m\u001b[0mgladiador2\u001b[0m\u001b[0;34m]\u001b[0m\u001b[0;34m,\u001b[0m \u001b[0;36m10000\u001b[0m\u001b[0;34m)\u001b[0m\u001b[0;34m\u001b[0m\u001b[0;34m\u001b[0m\u001b[0m\n\u001b[0m\u001b[1;32m      6\u001b[0m     \u001b[0mplayer1\u001b[0m \u001b[0;34m=\u001b[0m \u001b[0mBaseGladiator\u001b[0m\u001b[0;34m(\u001b[0m\u001b[0mGLADIATORS_DICT\u001b[0m\u001b[0;34m[\u001b[0m\u001b[0mgladiador1\u001b[0m\u001b[0;34m]\u001b[0m\u001b[0;34m)\u001b[0m\u001b[0;34m\u001b[0m\u001b[0;34m\u001b[0m\u001b[0m\n\u001b[1;32m      7\u001b[0m     \u001b[0mplayer2\u001b[0m \u001b[0;34m=\u001b[0m \u001b[0mBaseGladiator\u001b[0m\u001b[0;34m(\u001b[0m\u001b[0mGLADIATORS_DICT\u001b[0m\u001b[0;34m[\u001b[0m\u001b[0mgladiador2\u001b[0m\u001b[0;34m]\u001b[0m\u001b[0;34m)\u001b[0m\u001b[0;34m\u001b[0m\u001b[0;34m\u001b[0m\u001b[0m\n",
            "\u001b[0;32m<ipython-input-5-65f1f4db5598>\u001b[0m in \u001b[0;36msimulacion\u001b[0;34m(player1, player2, n)\u001b[0m\n\u001b[1;32m      3\u001b[0m   \u001b[0mrv\u001b[0m \u001b[0;34m=\u001b[0m \u001b[0mnp\u001b[0m\u001b[0;34m.\u001b[0m\u001b[0marray\u001b[0m\u001b[0;34m(\u001b[0m\u001b[0;34m[\u001b[0m\u001b[0;36m0\u001b[0m\u001b[0;34m,\u001b[0m \u001b[0;36m0\u001b[0m\u001b[0;34m]\u001b[0m\u001b[0;34m)\u001b[0m\u001b[0;34m\u001b[0m\u001b[0;34m\u001b[0m\u001b[0m\n\u001b[1;32m      4\u001b[0m   \u001b[0;32mfor\u001b[0m \u001b[0mk\u001b[0m \u001b[0;32min\u001b[0m \u001b[0mrange\u001b[0m\u001b[0;34m(\u001b[0m\u001b[0mn\u001b[0m\u001b[0;34m)\u001b[0m\u001b[0;34m:\u001b[0m\u001b[0;34m\u001b[0m\u001b[0;34m\u001b[0m\u001b[0m\n\u001b[0;32m----> 5\u001b[0;31m         \u001b[0mround\u001b[0m \u001b[0;34m=\u001b[0m \u001b[0mpelea\u001b[0m\u001b[0;34m(\u001b[0m\u001b[0mplayer1\u001b[0m\u001b[0;34m,\u001b[0m \u001b[0mplayer2\u001b[0m\u001b[0;34m)\u001b[0m\u001b[0;34m\u001b[0m\u001b[0;34m\u001b[0m\u001b[0m\n\u001b[0m\u001b[1;32m      6\u001b[0m         \u001b[0;31m#print(rv)\u001b[0m\u001b[0;34m\u001b[0m\u001b[0;34m\u001b[0m\u001b[0;34m\u001b[0m\u001b[0m\n\u001b[1;32m      7\u001b[0m         \u001b[0;32mif\u001b[0m \u001b[0mround\u001b[0m\u001b[0;34m[\u001b[0m\u001b[0;36m0\u001b[0m\u001b[0;34m]\u001b[0m \u001b[0;34m>\u001b[0m \u001b[0mround\u001b[0m\u001b[0;34m[\u001b[0m\u001b[0;36m1\u001b[0m\u001b[0;34m]\u001b[0m\u001b[0;34m:\u001b[0m\u001b[0;34m\u001b[0m\u001b[0;34m\u001b[0m\u001b[0m\n",
            "\u001b[0;32m<ipython-input-1-64893a47f144>\u001b[0m in \u001b[0;36mpelea\u001b[0;34m(jugador1, jugador2)\u001b[0m\n\u001b[1;32m     38\u001b[0m             \u001b[0mvida\u001b[0m\u001b[0;34m[\u001b[0m\u001b[0mj\u001b[0m\u001b[0;34m]\u001b[0m \u001b[0;34m=\u001b[0m \u001b[0mvida\u001b[0m\u001b[0;34m[\u001b[0m\u001b[0mj\u001b[0m\u001b[0;34m]\u001b[0m \u001b[0;34m-\u001b[0m \u001b[0mmaximo\u001b[0m\u001b[0;34m\u001b[0m\u001b[0;34m\u001b[0m\u001b[0m\n\u001b[1;32m     39\u001b[0m         \u001b[0;32melif\u001b[0m \u001b[0mpega_o_no\u001b[0m \u001b[0;34m>\u001b[0m \u001b[0;36m0\u001b[0m\u001b[0;34m:\u001b[0m\u001b[0;34m\u001b[0m\u001b[0;34m\u001b[0m\u001b[0m\n\u001b[0;32m---> 40\u001b[0;31m             \u001b[0mtirada_2\u001b[0m \u001b[0;34m=\u001b[0m \u001b[0mnp\u001b[0m\u001b[0;34m.\u001b[0m\u001b[0mrandom\u001b[0m\u001b[0;34m.\u001b[0m\u001b[0mrandint\u001b[0m\u001b[0;34m(\u001b[0m\u001b[0;36m50\u001b[0m\u001b[0;34m)\u001b[0m \u001b[0;34m+\u001b[0m \u001b[0mfuerza\u001b[0m\u001b[0;34m[\u001b[0m\u001b[0mi\u001b[0m\u001b[0;34m]\u001b[0m \u001b[0;34m-\u001b[0m \u001b[0marmadura\u001b[0m\u001b[0;34m[\u001b[0m\u001b[0mj\u001b[0m\u001b[0;34m]\u001b[0m\u001b[0;34m\u001b[0m\u001b[0;34m\u001b[0m\u001b[0m\n\u001b[0m\u001b[1;32m     41\u001b[0m             \u001b[0mmaximo\u001b[0m \u001b[0;34m=\u001b[0m \u001b[0mnp\u001b[0m\u001b[0;34m.\u001b[0m\u001b[0mmaximum\u001b[0m\u001b[0;34m(\u001b[0m\u001b[0mtirada_2\u001b[0m\u001b[0;34m,\u001b[0m \u001b[0;36m20\u001b[0m\u001b[0;34m)\u001b[0m\u001b[0;34m\u001b[0m\u001b[0;34m\u001b[0m\u001b[0m\n\u001b[1;32m     42\u001b[0m \u001b[0;34m\u001b[0m\u001b[0m\n",
            "\u001b[0;31mKeyboardInterrupt\u001b[0m: "
          ]
        }
      ],
      "source": [
        "A = np.zeros((10,10))\n",
        "B = np.zeros((10,10))\n",
        "\n",
        "for (gladiador1, gladiador2) in combinations(GLADIATORS_DICT.keys(), 2):\n",
        "    simul = simulacion(GLADIATORS_DICT[gladiador1], GLADIATORS_DICT[gladiador2], 10000)\n",
        "    player1 = BaseGladiator(GLADIATORS_DICT[gladiador1])\n",
        "    player2 = BaseGladiator(GLADIATORS_DICT[gladiador2])\n",
        "    print(f' {gladiador1} {simul[0]} vs {gladiador2} {simul[1]}')\n",
        "    A[player1.orden, player2.orden] = simul[0]\n",
        "    A[player2.orden, player1.orden] = simul[1]\n",
        "\n",
        "print(A)\n",
        "\n",
        "for i in range(10):\n",
        "    for j in range(10):\n",
        "        if (A[i,j] > 5300) & (i != j) :\n",
        "           B[i,j] = 1\n",
        "        elif (A[i,j] < 4700) & (i != j):\n",
        "            B[i,j] = -1\n",
        "\n",
        "b=np.sum(B,axis=1)\n",
        "a=np.sum(A,axis=1)\n",
        "\n",
        "print(f'el vector suma es{a}')\n",
        "print(B)\n",
        "print(f'el vector suma es{b}')"
      ]
    },
    {
      "cell_type": "code",
      "source": [
        "import plotly.graph_objects as go\n",
        "\n",
        "labels = ['Scissor', 'Murmillo', 'Tracio', 'Hoplomachis', 'Provocator', 'Reciario', 'Crupellarius', 'Cestus', 'Lauquerius', 'Secutor']\n",
        "values = [4476268, 4584161, 4628628, 4372322, 4592917, 4504364, 4347804, 4539580, 4390068, 4563888]\n",
        "\n",
        "fig = go.Figure(data=[go.Pie(labels=labels, values=values, hole=.3)])\n",
        "fig.show()\n"
      ],
      "metadata": {
        "colab": {
          "base_uri": "https://localhost:8080/",
          "height": 542
        },
        "id": "S1OkRkqo5QP-",
        "outputId": "6da9b31f-e6a6-4ac3-a961-f9c8a68eef20"
      },
      "execution_count": null,
      "outputs": [
        {
          "output_type": "display_data",
          "data": {
            "text/html": [
              "<html>\n",
              "<head><meta charset=\"utf-8\" /></head>\n",
              "<body>\n",
              "    <div>\n",
              "            <script src=\"https://cdnjs.cloudflare.com/ajax/libs/mathjax/2.7.5/MathJax.js?config=TeX-AMS-MML_SVG\"></script><script type=\"text/javascript\">if (window.MathJax) {MathJax.Hub.Config({SVG: {font: \"STIX-Web\"}});}</script>\n",
              "                <script type=\"text/javascript\">window.PlotlyConfig = {MathJaxConfig: 'local'};</script>\n",
              "        <script src=\"https://cdn.plot.ly/plotly-latest.min.js\"></script>    \n",
              "            <div id=\"90b63bb7-ed5b-4797-9df1-bcc83d96d894\" class=\"plotly-graph-div\" style=\"height:525px; width:100%;\"></div>\n",
              "            <script type=\"text/javascript\">\n",
              "                \n",
              "                    window.PLOTLYENV=window.PLOTLYENV || {};\n",
              "                    \n",
              "                if (document.getElementById(\"90b63bb7-ed5b-4797-9df1-bcc83d96d894\")) {\n",
              "                    Plotly.newPlot(\n",
              "                        '90b63bb7-ed5b-4797-9df1-bcc83d96d894',\n",
              "                        [{\"hole\": 0.3, \"labels\": [\"Scissor\", \"Murmillo\", \"Tracio\", \"Hoplomachis\", \"Provocator\", \"Reciario\", \"Crupellarius\", \"Cestus\", \"Lauquerius\", \"Secutor\"], \"type\": \"pie\", \"values\": [4476268, 4584161, 4628628, 4372322, 4592917, 4504364, 4347804, 4539580, 4390068, 4563888]}],\n",
              "                        {\"template\": {\"data\": {\"bar\": [{\"error_x\": {\"color\": \"#2a3f5f\"}, \"error_y\": {\"color\": \"#2a3f5f\"}, \"marker\": {\"line\": {\"color\": \"#E5ECF6\", \"width\": 0.5}}, \"type\": \"bar\"}], \"barpolar\": [{\"marker\": {\"line\": {\"color\": \"#E5ECF6\", \"width\": 0.5}}, \"type\": \"barpolar\"}], \"carpet\": [{\"aaxis\": {\"endlinecolor\": \"#2a3f5f\", \"gridcolor\": \"white\", \"linecolor\": \"white\", \"minorgridcolor\": \"white\", \"startlinecolor\": \"#2a3f5f\"}, \"baxis\": {\"endlinecolor\": \"#2a3f5f\", \"gridcolor\": \"white\", \"linecolor\": \"white\", \"minorgridcolor\": \"white\", \"startlinecolor\": \"#2a3f5f\"}, \"type\": \"carpet\"}], \"choropleth\": [{\"colorbar\": {\"outlinewidth\": 0, \"ticks\": \"\"}, \"type\": \"choropleth\"}], \"contour\": [{\"colorbar\": {\"outlinewidth\": 0, \"ticks\": \"\"}, \"colorscale\": [[0.0, \"#0d0887\"], [0.1111111111111111, \"#46039f\"], [0.2222222222222222, \"#7201a8\"], [0.3333333333333333, \"#9c179e\"], [0.4444444444444444, \"#bd3786\"], [0.5555555555555556, \"#d8576b\"], [0.6666666666666666, \"#ed7953\"], [0.7777777777777778, \"#fb9f3a\"], [0.8888888888888888, \"#fdca26\"], [1.0, \"#f0f921\"]], \"type\": \"contour\"}], \"contourcarpet\": [{\"colorbar\": {\"outlinewidth\": 0, \"ticks\": \"\"}, \"type\": \"contourcarpet\"}], \"heatmap\": [{\"colorbar\": {\"outlinewidth\": 0, \"ticks\": \"\"}, \"colorscale\": [[0.0, \"#0d0887\"], [0.1111111111111111, \"#46039f\"], [0.2222222222222222, \"#7201a8\"], [0.3333333333333333, \"#9c179e\"], [0.4444444444444444, \"#bd3786\"], [0.5555555555555556, \"#d8576b\"], [0.6666666666666666, \"#ed7953\"], [0.7777777777777778, \"#fb9f3a\"], [0.8888888888888888, \"#fdca26\"], [1.0, \"#f0f921\"]], \"type\": \"heatmap\"}], \"heatmapgl\": [{\"colorbar\": {\"outlinewidth\": 0, \"ticks\": \"\"}, \"colorscale\": [[0.0, \"#0d0887\"], [0.1111111111111111, \"#46039f\"], [0.2222222222222222, \"#7201a8\"], [0.3333333333333333, \"#9c179e\"], [0.4444444444444444, \"#bd3786\"], [0.5555555555555556, \"#d8576b\"], [0.6666666666666666, \"#ed7953\"], [0.7777777777777778, \"#fb9f3a\"], [0.8888888888888888, \"#fdca26\"], [1.0, \"#f0f921\"]], \"type\": \"heatmapgl\"}], \"histogram\": [{\"marker\": {\"colorbar\": {\"outlinewidth\": 0, \"ticks\": \"\"}}, \"type\": \"histogram\"}], \"histogram2d\": [{\"colorbar\": {\"outlinewidth\": 0, \"ticks\": \"\"}, \"colorscale\": [[0.0, \"#0d0887\"], [0.1111111111111111, \"#46039f\"], [0.2222222222222222, \"#7201a8\"], [0.3333333333333333, \"#9c179e\"], [0.4444444444444444, \"#bd3786\"], [0.5555555555555556, \"#d8576b\"], [0.6666666666666666, \"#ed7953\"], [0.7777777777777778, \"#fb9f3a\"], [0.8888888888888888, \"#fdca26\"], [1.0, \"#f0f921\"]], \"type\": \"histogram2d\"}], \"histogram2dcontour\": [{\"colorbar\": {\"outlinewidth\": 0, \"ticks\": \"\"}, \"colorscale\": [[0.0, \"#0d0887\"], [0.1111111111111111, \"#46039f\"], [0.2222222222222222, \"#7201a8\"], [0.3333333333333333, \"#9c179e\"], [0.4444444444444444, \"#bd3786\"], [0.5555555555555556, \"#d8576b\"], [0.6666666666666666, \"#ed7953\"], [0.7777777777777778, \"#fb9f3a\"], [0.8888888888888888, \"#fdca26\"], [1.0, \"#f0f921\"]], \"type\": \"histogram2dcontour\"}], \"mesh3d\": [{\"colorbar\": {\"outlinewidth\": 0, \"ticks\": \"\"}, \"type\": \"mesh3d\"}], \"parcoords\": [{\"line\": {\"colorbar\": {\"outlinewidth\": 0, \"ticks\": \"\"}}, \"type\": \"parcoords\"}], \"pie\": [{\"automargin\": true, \"type\": \"pie\"}], \"scatter\": [{\"marker\": {\"colorbar\": {\"outlinewidth\": 0, \"ticks\": \"\"}}, \"type\": \"scatter\"}], \"scatter3d\": [{\"line\": {\"colorbar\": {\"outlinewidth\": 0, \"ticks\": \"\"}}, \"marker\": {\"colorbar\": {\"outlinewidth\": 0, \"ticks\": \"\"}}, \"type\": \"scatter3d\"}], \"scattercarpet\": [{\"marker\": {\"colorbar\": {\"outlinewidth\": 0, \"ticks\": \"\"}}, \"type\": \"scattercarpet\"}], \"scattergeo\": [{\"marker\": {\"colorbar\": {\"outlinewidth\": 0, \"ticks\": \"\"}}, \"type\": \"scattergeo\"}], \"scattergl\": [{\"marker\": {\"colorbar\": {\"outlinewidth\": 0, \"ticks\": \"\"}}, \"type\": \"scattergl\"}], \"scattermapbox\": [{\"marker\": {\"colorbar\": {\"outlinewidth\": 0, \"ticks\": \"\"}}, \"type\": \"scattermapbox\"}], \"scatterpolar\": [{\"marker\": {\"colorbar\": {\"outlinewidth\": 0, \"ticks\": \"\"}}, \"type\": \"scatterpolar\"}], \"scatterpolargl\": [{\"marker\": {\"colorbar\": {\"outlinewidth\": 0, \"ticks\": \"\"}}, \"type\": \"scatterpolargl\"}], \"scatterternary\": [{\"marker\": {\"colorbar\": {\"outlinewidth\": 0, \"ticks\": \"\"}}, \"type\": \"scatterternary\"}], \"surface\": [{\"colorbar\": {\"outlinewidth\": 0, \"ticks\": \"\"}, \"colorscale\": [[0.0, \"#0d0887\"], [0.1111111111111111, \"#46039f\"], [0.2222222222222222, \"#7201a8\"], [0.3333333333333333, \"#9c179e\"], [0.4444444444444444, \"#bd3786\"], [0.5555555555555556, \"#d8576b\"], [0.6666666666666666, \"#ed7953\"], [0.7777777777777778, \"#fb9f3a\"], [0.8888888888888888, \"#fdca26\"], [1.0, \"#f0f921\"]], \"type\": \"surface\"}], \"table\": [{\"cells\": {\"fill\": {\"color\": \"#EBF0F8\"}, \"line\": {\"color\": \"white\"}}, \"header\": {\"fill\": {\"color\": \"#C8D4E3\"}, \"line\": {\"color\": \"white\"}}, \"type\": \"table\"}]}, \"layout\": {\"annotationdefaults\": {\"arrowcolor\": \"#2a3f5f\", \"arrowhead\": 0, \"arrowwidth\": 1}, \"coloraxis\": {\"colorbar\": {\"outlinewidth\": 0, \"ticks\": \"\"}}, \"colorscale\": {\"diverging\": [[0, \"#8e0152\"], [0.1, \"#c51b7d\"], [0.2, \"#de77ae\"], [0.3, \"#f1b6da\"], [0.4, \"#fde0ef\"], [0.5, \"#f7f7f7\"], [0.6, \"#e6f5d0\"], [0.7, \"#b8e186\"], [0.8, \"#7fbc41\"], [0.9, \"#4d9221\"], [1, \"#276419\"]], \"sequential\": [[0.0, \"#0d0887\"], [0.1111111111111111, \"#46039f\"], [0.2222222222222222, \"#7201a8\"], [0.3333333333333333, \"#9c179e\"], [0.4444444444444444, \"#bd3786\"], [0.5555555555555556, \"#d8576b\"], [0.6666666666666666, \"#ed7953\"], [0.7777777777777778, \"#fb9f3a\"], [0.8888888888888888, \"#fdca26\"], [1.0, \"#f0f921\"]], \"sequentialminus\": [[0.0, \"#0d0887\"], [0.1111111111111111, \"#46039f\"], [0.2222222222222222, \"#7201a8\"], [0.3333333333333333, \"#9c179e\"], [0.4444444444444444, \"#bd3786\"], [0.5555555555555556, \"#d8576b\"], [0.6666666666666666, \"#ed7953\"], [0.7777777777777778, \"#fb9f3a\"], [0.8888888888888888, \"#fdca26\"], [1.0, \"#f0f921\"]]}, \"colorway\": [\"#636efa\", \"#EF553B\", \"#00cc96\", \"#ab63fa\", \"#FFA15A\", \"#19d3f3\", \"#FF6692\", \"#B6E880\", \"#FF97FF\", \"#FECB52\"], \"font\": {\"color\": \"#2a3f5f\"}, \"geo\": {\"bgcolor\": \"white\", \"lakecolor\": \"white\", \"landcolor\": \"#E5ECF6\", \"showlakes\": true, \"showland\": true, \"subunitcolor\": \"white\"}, \"hoverlabel\": {\"align\": \"left\"}, \"hovermode\": \"closest\", \"mapbox\": {\"style\": \"light\"}, \"paper_bgcolor\": \"white\", \"plot_bgcolor\": \"#E5ECF6\", \"polar\": {\"angularaxis\": {\"gridcolor\": \"white\", \"linecolor\": \"white\", \"ticks\": \"\"}, \"bgcolor\": \"#E5ECF6\", \"radialaxis\": {\"gridcolor\": \"white\", \"linecolor\": \"white\", \"ticks\": \"\"}}, \"scene\": {\"xaxis\": {\"backgroundcolor\": \"#E5ECF6\", \"gridcolor\": \"white\", \"gridwidth\": 2, \"linecolor\": \"white\", \"showbackground\": true, \"ticks\": \"\", \"zerolinecolor\": \"white\"}, \"yaxis\": {\"backgroundcolor\": \"#E5ECF6\", \"gridcolor\": \"white\", \"gridwidth\": 2, \"linecolor\": \"white\", \"showbackground\": true, \"ticks\": \"\", \"zerolinecolor\": \"white\"}, \"zaxis\": {\"backgroundcolor\": \"#E5ECF6\", \"gridcolor\": \"white\", \"gridwidth\": 2, \"linecolor\": \"white\", \"showbackground\": true, \"ticks\": \"\", \"zerolinecolor\": \"white\"}}, \"shapedefaults\": {\"line\": {\"color\": \"#2a3f5f\"}}, \"ternary\": {\"aaxis\": {\"gridcolor\": \"white\", \"linecolor\": \"white\", \"ticks\": \"\"}, \"baxis\": {\"gridcolor\": \"white\", \"linecolor\": \"white\", \"ticks\": \"\"}, \"bgcolor\": \"#E5ECF6\", \"caxis\": {\"gridcolor\": \"white\", \"linecolor\": \"white\", \"ticks\": \"\"}}, \"title\": {\"x\": 0.05}, \"xaxis\": {\"automargin\": true, \"gridcolor\": \"white\", \"linecolor\": \"white\", \"ticks\": \"\", \"title\": {\"standoff\": 15}, \"zerolinecolor\": \"white\", \"zerolinewidth\": 2}, \"yaxis\": {\"automargin\": true, \"gridcolor\": \"white\", \"linecolor\": \"white\", \"ticks\": \"\", \"title\": {\"standoff\": 15}, \"zerolinecolor\": \"white\", \"zerolinewidth\": 2}}}},\n",
              "                        {\"responsive\": true}\n",
              "                    ).then(function(){\n",
              "                            \n",
              "var gd = document.getElementById('90b63bb7-ed5b-4797-9df1-bcc83d96d894');\n",
              "var x = new MutationObserver(function (mutations, observer) {{\n",
              "        var display = window.getComputedStyle(gd).display;\n",
              "        if (!display || display === 'none') {{\n",
              "            console.log([gd, 'removed!']);\n",
              "            Plotly.purge(gd);\n",
              "            observer.disconnect();\n",
              "        }}\n",
              "}});\n",
              "\n",
              "// Listen for the removal of the full notebook cells\n",
              "var notebookContainer = gd.closest('#notebook-container');\n",
              "if (notebookContainer) {{\n",
              "    x.observe(notebookContainer, {childList: true});\n",
              "}}\n",
              "\n",
              "// Listen for the clearing of the current output cell\n",
              "var outputEl = gd.closest('.output');\n",
              "if (outputEl) {{\n",
              "    x.observe(outputEl, {childList: true});\n",
              "}}\n",
              "\n",
              "                        })\n",
              "                };\n",
              "                \n",
              "            </script>\n",
              "        </div>\n",
              "</body>\n",
              "</html>"
            ]
          },
          "metadata": {}
        }
      ]
    },
    {
      "cell_type": "code",
      "execution_count": null,
      "metadata": {
        "colab": {
          "base_uri": "https://localhost:8080/",
          "height": 519
        },
        "id": "rQjK7nB8CskP",
        "outputId": "abebd0d4-145a-4925-c68f-b2e6ae872bc3"
      },
      "outputs": [
        {
          "name": "stdout",
          "output_type": "stream",
          "text": [
            "p1 es:-3 con [ 49  71  20 160   0   2   1]\n",
            "p2 es:-3 con [ 51  69  20 160   0   2   1]\n",
            "p1 es:-3 con [ 48  72  20 160   0   2   1]\n",
            "p2 es:-2 con [ 52  68  20 160   0   2   1]\n",
            "p1 es:-3 con [ 47  73  20 160   0   2   1]\n",
            "p2 es:-2 con [ 53  67  20 160   0   2   1]\n",
            "p1 es:-3 con [ 46  74  20 160   0   2   1]\n",
            "p2 es:0 con [ 54  66  20 160   0   2   1]\n"
          ]
        },
        {
          "ename": "KeyboardInterrupt",
          "evalue": "ignored",
          "output_type": "error",
          "traceback": [
            "\u001b[0;31m---------------------------------------------------------------------------\u001b[0m",
            "\u001b[0;31mKeyboardInterrupt\u001b[0m                         Traceback (most recent call last)",
            "\u001b[0;32m<ipython-input-18-23fe2ff4a2d1>\u001b[0m in \u001b[0;36m<module>\u001b[0;34m()\u001b[0m\n\u001b[1;32m     13\u001b[0m             \u001b[0maux2\u001b[0m\u001b[0;34m[\u001b[0m\u001b[0mj\u001b[0m\u001b[0;34m]\u001b[0m \u001b[0;34m-=\u001b[0m \u001b[0mk\u001b[0m\u001b[0;34m\u001b[0m\u001b[0;34m\u001b[0m\u001b[0m\n\u001b[1;32m     14\u001b[0m             \u001b[0;32mfor\u001b[0m \u001b[0mgladiador2\u001b[0m \u001b[0;32min\u001b[0m \u001b[0mGLADIATORS_DICT\u001b[0m\u001b[0;34m.\u001b[0m\u001b[0mkeys\u001b[0m\u001b[0;34m(\u001b[0m\u001b[0;34m)\u001b[0m\u001b[0;34m:\u001b[0m\u001b[0;34m\u001b[0m\u001b[0;34m\u001b[0m\u001b[0m\n\u001b[0;32m---> 15\u001b[0;31m                 \u001b[0msimul1\u001b[0m \u001b[0;34m=\u001b[0m \u001b[0msimulacion\u001b[0m\u001b[0;34m(\u001b[0m\u001b[0maux1\u001b[0m\u001b[0;34m,\u001b[0m \u001b[0mGLADIATORS_DICT\u001b[0m\u001b[0;34m[\u001b[0m\u001b[0mgladiador2\u001b[0m\u001b[0;34m]\u001b[0m\u001b[0;34m,\u001b[0m\u001b[0;36m10000\u001b[0m\u001b[0;34m)\u001b[0m\u001b[0;34m\u001b[0m\u001b[0;34m\u001b[0m\u001b[0m\n\u001b[0m\u001b[1;32m     16\u001b[0m                 \u001b[0msimul2\u001b[0m \u001b[0;34m=\u001b[0m \u001b[0msimulacion\u001b[0m\u001b[0;34m(\u001b[0m\u001b[0maux2\u001b[0m\u001b[0;34m,\u001b[0m \u001b[0mGLADIATORS_DICT\u001b[0m\u001b[0;34m[\u001b[0m\u001b[0mgladiador2\u001b[0m\u001b[0;34m]\u001b[0m\u001b[0;34m,\u001b[0m\u001b[0;36m10000\u001b[0m\u001b[0;34m)\u001b[0m\u001b[0;34m\u001b[0m\u001b[0;34m\u001b[0m\u001b[0m\n\u001b[1;32m     17\u001b[0m                 \u001b[0;32mif\u001b[0m \u001b[0msimul1\u001b[0m\u001b[0;34m[\u001b[0m\u001b[0;36m0\u001b[0m\u001b[0;34m]\u001b[0m \u001b[0;34m>\u001b[0m \u001b[0;36m5300\u001b[0m\u001b[0;34m:\u001b[0m\u001b[0;34m\u001b[0m\u001b[0;34m\u001b[0m\u001b[0m\n",
            "\u001b[0;32m<ipython-input-3-65f1f4db5598>\u001b[0m in \u001b[0;36msimulacion\u001b[0;34m(player1, player2, n)\u001b[0m\n\u001b[1;32m      3\u001b[0m   \u001b[0mrv\u001b[0m \u001b[0;34m=\u001b[0m \u001b[0mnp\u001b[0m\u001b[0;34m.\u001b[0m\u001b[0marray\u001b[0m\u001b[0;34m(\u001b[0m\u001b[0;34m[\u001b[0m\u001b[0;36m0\u001b[0m\u001b[0;34m,\u001b[0m \u001b[0;36m0\u001b[0m\u001b[0;34m]\u001b[0m\u001b[0;34m)\u001b[0m\u001b[0;34m\u001b[0m\u001b[0;34m\u001b[0m\u001b[0m\n\u001b[1;32m      4\u001b[0m   \u001b[0;32mfor\u001b[0m \u001b[0mk\u001b[0m \u001b[0;32min\u001b[0m \u001b[0mrange\u001b[0m\u001b[0;34m(\u001b[0m\u001b[0mn\u001b[0m\u001b[0;34m)\u001b[0m\u001b[0;34m:\u001b[0m\u001b[0;34m\u001b[0m\u001b[0;34m\u001b[0m\u001b[0m\n\u001b[0;32m----> 5\u001b[0;31m         \u001b[0mround\u001b[0m \u001b[0;34m=\u001b[0m \u001b[0mpelea\u001b[0m\u001b[0;34m(\u001b[0m\u001b[0mplayer1\u001b[0m\u001b[0;34m,\u001b[0m \u001b[0mplayer2\u001b[0m\u001b[0;34m)\u001b[0m\u001b[0;34m\u001b[0m\u001b[0;34m\u001b[0m\u001b[0m\n\u001b[0m\u001b[1;32m      6\u001b[0m         \u001b[0;31m#print(rv)\u001b[0m\u001b[0;34m\u001b[0m\u001b[0;34m\u001b[0m\u001b[0;34m\u001b[0m\u001b[0m\n\u001b[1;32m      7\u001b[0m         \u001b[0;32mif\u001b[0m \u001b[0mround\u001b[0m\u001b[0;34m[\u001b[0m\u001b[0;36m0\u001b[0m\u001b[0;34m]\u001b[0m \u001b[0;34m>\u001b[0m \u001b[0mround\u001b[0m\u001b[0;34m[\u001b[0m\u001b[0;36m1\u001b[0m\u001b[0;34m]\u001b[0m\u001b[0;34m:\u001b[0m\u001b[0;34m\u001b[0m\u001b[0;34m\u001b[0m\u001b[0m\n",
            "\u001b[0;32m<ipython-input-8-64893a47f144>\u001b[0m in \u001b[0;36mpelea\u001b[0;34m(jugador1, jugador2)\u001b[0m\n\u001b[1;32m     25\u001b[0m         \u001b[0mtirada\u001b[0m \u001b[0;34m=\u001b[0m \u001b[0mnp\u001b[0m\u001b[0;34m.\u001b[0m\u001b[0mrandom\u001b[0m\u001b[0;34m.\u001b[0m\u001b[0mrandint\u001b[0m\u001b[0;34m(\u001b[0m\u001b[0;36m200\u001b[0m\u001b[0;34m)\u001b[0m\u001b[0;34m\u001b[0m\u001b[0;34m\u001b[0m\u001b[0m\n\u001b[1;32m     26\u001b[0m         \u001b[0;31m#print(f'la tirada es = {tirada}')\u001b[0m\u001b[0;34m\u001b[0m\u001b[0;34m\u001b[0m\u001b[0;34m\u001b[0m\u001b[0m\n\u001b[0;32m---> 27\u001b[0;31m         \u001b[0mprobstun\u001b[0m \u001b[0;34m=\u001b[0m \u001b[0mnp\u001b[0m\u001b[0;34m.\u001b[0m\u001b[0mrandom\u001b[0m\u001b[0;34m.\u001b[0m\u001b[0mrandint\u001b[0m\u001b[0;34m(\u001b[0m\u001b[0mstun\u001b[0m\u001b[0;34m[\u001b[0m\u001b[0mi\u001b[0m\u001b[0;34m]\u001b[0m\u001b[0;34m)\u001b[0m\u001b[0;34m\u001b[0m\u001b[0;34m\u001b[0m\u001b[0m\n\u001b[0m\u001b[1;32m     28\u001b[0m         \u001b[0;32mif\u001b[0m \u001b[0mprobstun\u001b[0m\u001b[0;34m/\u001b[0m\u001b[0;36m100\u001b[0m \u001b[0;34m>=\u001b[0m \u001b[0;36m.1\u001b[0m\u001b[0;34m:\u001b[0m\u001b[0;34m\u001b[0m\u001b[0;34m\u001b[0m\u001b[0m\n\u001b[1;32m     29\u001b[0m             \u001b[0mextra\u001b[0m \u001b[0;34m=\u001b[0m \u001b[0;36m1\u001b[0m\u001b[0;34m\u001b[0m\u001b[0;34m\u001b[0m\u001b[0m\n",
            "\u001b[0;31mKeyboardInterrupt\u001b[0m: "
          ]
        }
      ],
      "source": [
        "index = {0,1,2,3}\n",
        "p1 = 0\n",
        "p2 = 0\n",
        "for (i, j) in combinations(index, 2):\n",
        "    for k in range(4):\n",
        "        k = k+1\n",
        "        if ((GLADIATORS_DICT['Murmillo'][j] - k) > 0) & ((GLADIATORS_DICT['Murmillo'][i] - k) > 0):\n",
        "            aux1 = np.array([50 , 70 , 20, 160, 0, 2,1])\n",
        "            aux1[i] -= k\n",
        "            aux1[j] += k\n",
        "            aux2 =  np.array([50 , 70 , 20, 160, 0, 2,1])\n",
        "            aux2[i] += k\n",
        "            aux2[j] -= k \n",
        "            for gladiador2 in GLADIATORS_DICT.keys():\n",
        "                simul1 = simulacion(aux1, GLADIATORS_DICT[gladiador2],10000)\n",
        "                simul2 = simulacion(aux2, GLADIATORS_DICT[gladiador2],10000)\n",
        "                if simul1[0] > 5300:\n",
        "                    p1 = p1 + 1\n",
        "                elif simul1[0] < 4700:\n",
        "                    p1 = p1 -1\n",
        "                if simul2[0] > 5300:\n",
        "                    p2 = p2 + 1\n",
        "                elif simul2[0] < 4700:\n",
        "                    p2 = p2 -1\n",
        "            print(f'p1 es:{p1} con {aux1}')\n",
        "            print(f'p2 es:{p2} con {aux2}')\n",
        "            p1 = 0\n",
        "            p2 = 0       "
      ]
    },
    {
      "cell_type": "code",
      "execution_count": null,
      "metadata": {
        "colab": {
          "base_uri": "https://localhost:8080/"
        },
        "id": "ncqjCaeO9Tyi",
        "outputId": "18e3de6b-e547-4e10-a860-18e604ba6790"
      },
      "outputs": [
        {
          "output_type": "stream",
          "name": "stdout",
          "text": [
            "{'fuerza': 85, 'armadura': 37, 'destreza': 64, 'vida': 114, 'rango': 0, 'stun': 2, 'orden': 0}\n"
          ]
        }
      ],
      "source": [
        "player1 = BaseGladiator(GLADIATORS_DICT['Scissor'])\n",
        "print(player1.__dict__)\n"
      ]
    },
    {
      "cell_type": "code",
      "execution_count": null,
      "metadata": {
        "colab": {
          "base_uri": "https://localhost:8080/",
          "height": 183
        },
        "id": "m5dYgEcY6K_f",
        "outputId": "1a4e81ed-4763-487c-e398-b45b71fc9686"
      },
      "outputs": [
        {
          "output_type": "error",
          "ename": "TypeError",
          "evalue": "ignored",
          "traceback": [
            "\u001b[0;31m---------------------------------------------------------------------------\u001b[0m",
            "\u001b[0;31mTypeError\u001b[0m                                 Traceback (most recent call last)",
            "\u001b[0;32m<ipython-input-12-496f09f468e7>\u001b[0m in \u001b[0;36m<module>\u001b[0;34m()\u001b[0m\n\u001b[0;32m----> 1\u001b[0;31m \u001b[0msimul\u001b[0m \u001b[0;34m=\u001b[0m \u001b[0msimulacion\u001b[0m\u001b[0;34m(\u001b[0m\u001b[0mgladiador1\u001b[0m\u001b[0;34m,\u001b[0m \u001b[0mGLADIATORS_DICT\u001b[0m\u001b[0;34m[\u001b[0m\u001b[0mgladiador2\u001b[0m\u001b[0;34m]\u001b[0m\u001b[0;34m)\u001b[0m\u001b[0;34m\u001b[0m\u001b[0;34m\u001b[0m\u001b[0m\n\u001b[0m\u001b[1;32m      2\u001b[0m \u001b[0mprint\u001b[0m\u001b[0;34m(\u001b[0m\u001b[0msimul\u001b[0m\u001b[0;34m)\u001b[0m\u001b[0;34m\u001b[0m\u001b[0;34m\u001b[0m\u001b[0m\n",
            "\u001b[0;31mTypeError\u001b[0m: simulacion() missing 1 required positional argument: 'n'"
          ]
        }
      ],
      "source": [
        "simul = simulacion(gladiador1, GLADIATORS_DICT[gladiador2])\n",
        "print(simul)"
      ]
    },
    {
      "cell_type": "code",
      "source": [
        "fight = pelea3(Scissor, Hoplomachis)"
      ],
      "metadata": {
        "colab": {
          "base_uri": "https://localhost:8080/",
          "height": 165
        },
        "id": "D-JRnUpnC8bI",
        "outputId": "4acd3cb6-2245-40bd-c712-31b5a11e5c77"
      },
      "execution_count": null,
      "outputs": [
        {
          "output_type": "error",
          "ename": "NameError",
          "evalue": "ignored",
          "traceback": [
            "\u001b[0;31m---------------------------------------------------------------------------\u001b[0m",
            "\u001b[0;31mNameError\u001b[0m                                 Traceback (most recent call last)",
            "\u001b[0;32m<ipython-input-13-8769366fab75>\u001b[0m in \u001b[0;36m<module>\u001b[0;34m()\u001b[0m\n\u001b[0;32m----> 1\u001b[0;31m \u001b[0mfight\u001b[0m \u001b[0;34m=\u001b[0m \u001b[0mpelea3\u001b[0m\u001b[0;34m(\u001b[0m\u001b[0mScissor\u001b[0m\u001b[0;34m,\u001b[0m \u001b[0mHoplomachis\u001b[0m\u001b[0;34m)\u001b[0m\u001b[0;34m\u001b[0m\u001b[0;34m\u001b[0m\u001b[0m\n\u001b[0m",
            "\u001b[0;31mNameError\u001b[0m: name 'Scissor' is not defined"
          ]
        }
      ]
    }
  ],
  "metadata": {
    "colab": {
      "collapsed_sections": [],
      "name": "Balance01.ipynb",
      "provenance": [],
      "include_colab_link": true
    },
    "kernelspec": {
      "display_name": "Python 3",
      "name": "python3"
    },
    "language_info": {
      "name": "python"
    }
  },
  "nbformat": 4,
  "nbformat_minor": 0
}