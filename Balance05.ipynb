{
  "cells": [
    {
      "cell_type": "markdown",
      "metadata": {
        "id": "view-in-github",
        "colab_type": "text"
      },
      "source": [
        "<a href=\"https://colab.research.google.com/github/castagninojose/seminar_ds/blob/master/Balance05.ipynb\" target=\"_parent\"><img src=\"https://colab.research.google.com/assets/colab-badge.svg\" alt=\"Open In Colab\"/></a>"
      ]
    },
    {
      "cell_type": "markdown",
      "metadata": {
        "id": "3SDYQNMlMZh2"
      },
      "source": [
        "#Balance and implementation of fights in Ludus Game\n",
        "here we have all the code used for modelating and balancing the fights in Ludus"
      ]
    },
    {
      "cell_type": "markdown",
      "metadata": {
        "id": "bFshtsYSM-FB"
      },
      "source": [
        "\n",
        "imports\n",
        "\n",
        "\n"
      ]
    },
    {
      "cell_type": "code",
      "execution_count": null,
      "metadata": {
        "id": "qeAxaGjiBlv5"
      },
      "outputs": [],
      "source": [
        "#@title\n",
        "from itertools import combinations\n",
        "import numpy as np\n",
        "import plotly.express as px\n",
        "import random"
      ]
    },
    {
      "cell_type": "markdown",
      "metadata": {
        "id": "2D0lBLXLNTLM"
      },
      "source": [
        "#Main Fight Simulator"
      ]
    },
    {
      "cell_type": "code",
      "execution_count": null,
      "metadata": {
        "cellView": "form",
        "id": "NNpSbfWaC7XC"
      },
      "outputs": [],
      "source": [
        "#@title\n",
        "def pelea(jugador1, jugador2):\n",
        "    critico = 0\n",
        "    extra = 0\n",
        "    #print(rango)\n",
        "    player1 = BaseGladiator(jugador1)\n",
        "    player2 = BaseGladiator(jugador2)\n",
        "    fuerza = np.array([player1.fuerza, player2.fuerza])\n",
        "    armadura = np.array([player1.armadura, player2.armadura])\n",
        "    destreza = np.array([player1.destreza, player2.destreza])\n",
        "    vida = np.array([player1.vida, player2.vida])\n",
        "    rango = np.array([player1.rango, player2.rango])\n",
        "    stun = np.array([player1.stun, player2.stun])\n",
        "\n",
        "    if (player1.rango + player2.rango == 1):\n",
        "        j = np.argmin(rango)\n",
        "        i = np.argmax(rango)\n",
        "        extra = 1\n",
        "        #print(i,j)\n",
        "    else:\n",
        "        i = np.random.randint(2)\n",
        "        j = np.abs(i -1)\n",
        "\n",
        "    while ((vida[0] > 0) & (vida[1] > 0)):\n",
        "        tirada = np.random.randint(200)\n",
        "        #print(f'la tirada es = {tirada}')\n",
        "        probstun = np.random.randint(stun[i])\n",
        "        if probstun/100 >= .1:\n",
        "            extra = 1 \n",
        "            critico = 1\n",
        "        pega_o_no  = tirada  - destreza[j]\n",
        "        if tirada >= 197:\n",
        "            critico = 1\n",
        "        if critico == 1:\n",
        "            tirada_2 = np.random.randint(100) + fuerza[i] - armadura[j]\n",
        "            maximo = np.maximum(tirada_2, 40)\n",
        "\n",
        "            vida[j] = vida[j] - maximo       \n",
        "        elif pega_o_no > 0:\n",
        "            tirada_2 = np.random.randint(50) + fuerza[i] - armadura[j]\n",
        "            maximo = np.maximum(tirada_2, 20)\n",
        "\n",
        "            vida[j] = vida[j] - maximo\n",
        "        if extra == 1:\n",
        "            extra = 0\n",
        "        else:\n",
        "            aux = i\n",
        "            i = j\n",
        "            j = aux\n",
        "        critico = 0\n",
        "        extra = 0 \n",
        "    return vida"
      ]
    },
    {
      "cell_type": "markdown",
      "metadata": {
        "id": "ygmw4PNvNedx"
      },
      "source": [
        "#Secondary Fight Simulator\n",
        "Used for testing"
      ]
    },
    {
      "cell_type": "code",
      "execution_count": null,
      "metadata": {
        "id": "uMhvcL8eBxMP",
        "cellView": "code"
      },
      "outputs": [],
      "source": [
        "#@title\n",
        "def pelea2(jugador1, jugador2, bonus1, bonus2, accesorio1 ,pantalon1 ,armadura1, escudo_o_armasecundaria1 ,arma1 ,casco1 , accesorio2 ,pantalon2 ,armadura2, escudo_o_armasecundaria2 ,arma2 ,casco2):\n",
        "    '''\n",
        "    Input:\n",
        "        jugador1, jugador2 6d array, y seis millones de otras cosas\n",
        "        \n",
        "    Output:\n",
        "        vida 2d array\n",
        "    '''\n",
        "    equipo1 = equip(accesorio1 ,pantalon1 ,armadura1, escudo_o_armasecundaria1 ,arma1 ,casco1) \n",
        "    equipo2 = equip( accesorio2 ,pantalon2 ,armadura2, escudo_o_armasecundaria2 ,arma2 ,casco2)\n",
        "    [jugador1, jugador2] = premath(jugador1, jugador2, bonus1, bonus2, equipo1, equipo2)\n",
        "    ##print(f\"{jugador1}, {jugador2} \")\n",
        "    [player1, player2, jugadores, fuerza, armadura, destreza, vida, rango, stun] = FightSetUp(jugador1, jugador2) \n",
        "\n",
        "    critico = 0\n",
        "    extra = 0\n",
        "    \n",
        "    ##choose who goes first\n",
        "\n",
        "    [Attacking_gladiator, Deffending_gladiator]= whogoesfirst(player1, player2, jugadores, rango)\n",
        "\n",
        "    ##repit until one gladiator dies\n",
        "    while ((vida[0] > 0) & (vida[1] > 0)):\n",
        "        tirada = np.random.randint(200)\n",
        "        probstun = np.random.randint(stun[Attacking_gladiator])\n",
        "        if probstun/100 >= .1:\n",
        "            extra = 1 \n",
        "            critico = 1\n",
        "            print(f'El gladiador {jugadores[Attacking_gladiator]} aturde al {jugadores[Deffending_gladiator]} dejandólo indefenso y haciéndole perder un turno en recuperarse')\n",
        "        pega_o_no  = tirada  - destreza[Deffending_gladiator]\n",
        "        if tirada >= 197:\n",
        "            critico = 1\n",
        "        if critico == 1:\n",
        "            vida[Deffending_gladiator] = vida[Deffending_gladiator] - Hit(critico, fuerza[Attacking_gladiator], armadura[Deffending_gladiator])       \n",
        "            print(f'pega el jugador  {jugadores[Attacking_gladiator]} acesta un poderoso golpe crítico por {Hit(critico, fuerza[Attacking_gladiator], armadura[Deffending_gladiator])} daño')\n",
        "        elif pega_o_no > 0:\n",
        "            vida[Deffending_gladiator] = vida[Deffending_gladiator] - Hit(critico, fuerza[Attacking_gladiator], armadura[Deffending_gladiator]) \n",
        "            print(f'El gladiador {jugadores[Attacking_gladiator]} acesta un golpe por {Hit(critico, fuerza[Attacking_gladiator], armadura[Deffending_gladiator])} daño')\n",
        "            #print(random_text(Attacking_gladiator,Hit(critico, fuerza[Attacking_gladiator], armadura[Deffending_gladiator])))\n",
        "        if extra == 0:\n",
        "            aux = Attacking_gladiator\n",
        "            Attacking_gladiator = Deffending_gladiator\n",
        "            Deffending_gladiator = aux\n",
        "        critico = 0\n",
        "        extra = 0 \n",
        "    print(f' El gladiador {jugadores[np.argmax(vida)]} sale victorioso con {np.max(vida)} puntos de vida finales')\n",
        "    return vida"
      ]
    },
    {
      "cell_type": "code",
      "source": [
        "def random_text(jugador,ataque):\n",
        "  lista=('pega el jugador {nombre} por {hit}','pega el jugador {nombre} un golpe critico por {hit}','pega el jugador {nombre} un golpe critico y lo stunea por {hit}')\n",
        "  num= np.random.randint(3)\n",
        "  \n",
        "  string_new=lista[num].replace('{nombre}',str(jugador))\n",
        "  return string_new.replace('{hit}',str(ataque))\n",
        "\n",
        "  "
      ],
      "metadata": {
        "id": "NCt4NFg9Fh7R"
      },
      "execution_count": null,
      "outputs": []
    },
    {
      "cell_type": "code",
      "source": [
        "def Hit(critico, fuerza, armadura):\n",
        "        tirada = np.random.randint(50 + 50*critico) + fuerza - armadura\n",
        "        return (np.maximum(tirada, 20 + 20*critico))"
      ],
      "metadata": {
        "id": "GXBqJ49bwHi0"
      },
      "execution_count": null,
      "outputs": []
    },
    {
      "cell_type": "code",
      "source": [
        "def whogoesfirst(player1, player2, jugadores, rango):\n",
        "    if (player1.rango + player2.rango == 1):\n",
        "        Deffending_gladiator = np.argmin(rango)\n",
        "        Attacking_gladiator = np.argmax(rango)\n",
        "        extra = 1\n",
        "        print(f'El gladiador {jugadores[i]} comienza atacando dos veces gracias a su ventaja de rango')\n",
        "    else:\n",
        "        Attacking_gladiator = np.random.randint(2)\n",
        "        Deffending_gladiator = np.abs(Attacking_gladiator -1)\n",
        "    return(Attacking_gladiator, Deffending_gladiator)    "
      ],
      "metadata": {
        "id": "xAS6gkBzHc-q"
      },
      "execution_count": null,
      "outputs": []
    },
    {
      "cell_type": "code",
      "source": [
        "def FightSetUp(jugador1, jugador2):\n",
        "    player1 = BaseGladiator(jugador1)\n",
        "    player2 = BaseGladiator(jugador2)\n",
        "    fuerza = np.array([player1.fuerza, player2.fuerza])\n",
        "    armadura = np.array([player1.armadura, player2.armadura])\n",
        "    destreza = np.array([player1.destreza, player2.destreza])\n",
        "    vida = np.array([player1.vida, player2.vida])\n",
        "    rango = np.array([player1.rango, player2.rango])\n",
        "    stun = np.array([player1.stun, player2.stun])\n",
        "    jugadores = (GLADIATORS_NAMES_LIST[player1.orden], GLADIATORS_NAMES_LIST[player2.orden])\n",
        "    return(player1, player2, jugadores, fuerza, armadura, destreza, vida, rango, stun)\n"
      ],
      "metadata": {
        "id": "2gdB-ElTFTOD"
      },
      "execution_count": null,
      "outputs": []
    },
    {
      "cell_type": "code",
      "source": [
        "def equip(accesorio,pantalon,armadura, escudo_o_armasecundaria,arma,casco):\n",
        "    Equip =np.array([[0,0, 0,  0,  0,  0,  0],[ 0,  0,  0,  0,  0,  0,  0]])\n",
        "    Equip += accesorio\n",
        "    Equip += pantalon\n",
        "    Equip += armadura\n",
        "    Equip += escudo_o_armasecundaria\n",
        "    Equip += arma\n",
        "    Equip += casco\n",
        "    return(Equip)"
      ],
      "metadata": {
        "id": "ia6h88hSyp2a"
      },
      "execution_count": null,
      "outputs": []
    },
    {
      "cell_type": "code",
      "source": [
        "def complete_attack_round(jugadores, fuerza, armadura, destreza, vida, rango, stun, Attacking_gladiator, Deffending_gladiator,critico ,extra):\n",
        "    tirada = np.random.randint(200)\n",
        "    probstun = np.random.randint(stun[Attacking_gladiator])\n",
        "    if probstun/100 >= .1:\n",
        "        extra = 1 \n",
        "        critico = 1\n",
        "        print('stun')\n",
        "    pega_o_no  = tirada  - destreza[Deffending_gladiator]\n",
        "    if tirada >= 197:\n",
        "        critico = 1\n",
        "        print('critico')\n",
        "    if critico == 1:\n",
        "        vida[Deffending_gladiator] = vida[Deffending_gladiator] - Hit(critico, fuerza[Attacking_gladiator], armadura[Deffending_gladiator])       \n",
        "        print(f'pega el jugador {Attacking_gladiator} por {Hit(critico, fuerza[Attacking_gladiator], armadura[Deffending_gladiator])}')\n",
        "    elif pega_o_no > 0:\n",
        "        vida[Deffending_gladiator] = vida[Deffending_gladiator] - Hit(critico, fuerza[Attacking_gladiator], armadura[Deffending_gladiator]) \n",
        "        #print(f'pega el jugador {Attacking_gladiator} por {Hit(critico, fuerza[Attacking_gladiator], armadura[Deffending_gladiator])}')\n",
        "        print(random_text(Attacking_gladiator,Hit(critico, fuerza[Attacking_gladiator], armadura[Deffending_gladiator])))\n",
        "    if extra == 0:\n",
        "        aux = Attacking_gladiator\n",
        "        Attacking_gladiator = Deffending_gladiator\n",
        "        Deffending_gladiator = aux\n",
        "    critico = 0\n",
        "    extra = 0 \n",
        "    return((Attacking_gladiator, Deffending_gladiator,critico ,extra, vida))"
      ],
      "metadata": {
        "id": "9P7ZAGQE__nh"
      },
      "execution_count": null,
      "outputs": []
    },
    {
      "cell_type": "markdown",
      "metadata": {
        "id": "9lqn3AxRh1oK"
      },
      "source": [
        "#Premath\n",
        "calculation to add bonus and equipment to both gladiators"
      ]
    },
    {
      "cell_type": "code",
      "execution_count": null,
      "metadata": {
        "cellView": "code",
        "id": "G-nhKX1ok5Go"
      },
      "outputs": [],
      "source": [
        "#@title\n",
        "ItemNulo = np.array([0,0,0,0,0,0,0])\n",
        "BonusNulo = np.array([0,0,0,0,0,0,0])\n",
        "EquipoNulo = np.array([[-1,-1,-1,-1,-1,-1,-1],[0,0,0,0,0,0,0]])\n",
        "\n",
        "def premath(player1 = GLADIATORS_DICT['Murmillo'], player2 = GLADIATORS_DICT['Scissor'], bonus1 = BonusNulo, bonus2 = BonusNulo, equipo1 = EquipoNulo, equipo2 = EquipoNulo):\n",
        "    gladiator1 = player1 + bonus1\n",
        "    gladiator2 = player2 + bonus2\n",
        "    gladiator1 += equipo1[0,:]\n",
        "    gladiator2 -= equipo1[1,:]\n",
        "    gladiator2 += equipo2[0,:]\n",
        "    gladiator2 -= equipo1[1,:]\n",
        "    return(gladiator1, gladiator2)"
      ]
    },
    {
      "cell_type": "markdown",
      "metadata": {
        "id": "zgti89fVNeya"
      },
      "source": [
        "#Third Fight Simulator\n",
        "with dialog report"
      ]
    },
    {
      "cell_type": "code",
      "execution_count": null,
      "metadata": {
        "cellView": "code",
        "id": "T6LOHiAa_BW1"
      },
      "outputs": [],
      "source": [
        "def pelea3(jugador1, jugador2, bonus1, bonus2, accesorio1 ,pantalon1 ,armadura1, escudo_o_armasecundaria1 ,arma1 ,casco1 , accesorio2 ,pantalon2 ,armadura2, escudo_o_armasecundaria2 ,arma2 ,casco2):\n",
        "    '''\n",
        "    Input:\n",
        "        jugador1, jugador2 6d array, y seis millones de otras cosas\n",
        "        \n",
        "    Output:\n",
        "        vida 2d array\n",
        "    '''\n",
        "    equipo1 = equip(accesorio1 ,pantalon1 ,armadura1, escudo_o_armasecundaria1 ,arma1 ,casco1) \n",
        "    equipo2 = equip( accesorio2 ,pantalon2 ,armadura2, escudo_o_armasecundaria2 ,arma2 ,casco2)\n",
        "    [jugador1, jugador2] = premath(jugador1, jugador2, bonus1, bonus2, equipo1, equipo2)\n",
        "    print(f\"{jugador1}, {jugador2} \")\n",
        "    [player1, player2, jugadores, fuerza, armadura, destreza, vida, rango, stun] = FightSetUp(jugador1, jugador2) \n",
        "\n",
        "    critico = 0\n",
        "    extra = 0\n",
        "    \n",
        "    ##choose who goes first\n",
        "\n",
        "    [Attacking_gladiator, Deffending_gladiator]= whogoesfirst(player1, player2, jugadores, rango)\n",
        "\n",
        "    ##repit until one gladiator dies\n",
        "    while ((vida[0] > 0) & (vida[1] > 0)):\n",
        "        [Attacking_gladiator, Deffending_gladiator,critico ,extra, vida] = complete_attack_round(jugadores, fuerza, armadura, destreza, vida, rango, stun, Attacking_gladiator, Deffending_gladiator,critico ,extra)\n",
        "    return vida"
      ]
    },
    {
      "cell_type": "code",
      "execution_count": null,
      "metadata": {
        "colab": {
          "base_uri": "https://localhost:8080/"
        },
        "id": "6Eqh5t0bspmu",
        "outputId": "35aad114-513a-40c5-f5fd-90ca19550fe8"
      },
      "outputs": [
        {
          "output_type": "stream",
          "name": "stdout",
          "text": [
            "El gladiador Cestus acesta un golpe por 51 daño\n",
            "El gladiador Tracio acesta un golpe por 60 daño\n",
            "El gladiador Cestus acesta un golpe por 20 daño\n",
            "El gladiador Tracio acesta un golpe por 57 daño\n",
            " El gladiador Tracio sale victorioso con 31 puntos de vida finales\n"
          ]
        },
        {
          "output_type": "execute_result",
          "data": {
            "text/plain": [
              "array([-13,  31])"
            ]
          },
          "metadata": {},
          "execution_count": 31
        }
      ],
      "source": [
        "pelea2(GLADIATORS_DICT['Cestus'],GLADIATORS_DICT['Tracio'],\n",
        "    BonusNulo,\n",
        "    BonusNulo,   \n",
        "    Items[\"Accesorio\"][\"Anillo Emperador\"]['Stats'],\n",
        "    Items[\"Pantalon\"][\"Botas acero\"]['Stats'], \n",
        "    Items[\"Armadura\"][\"Armadura completa\"]['Stats'],\n",
        "    Items[\"Escudo\"][\"Scutum\"]['Stats'], \n",
        "    Items[\"Arma\"][\"Gladius\"]['Stats'], \n",
        "    Items[\"Casco\"][\"Casco normal\"]['Stats'],\n",
        "    Items[\"Accesorio\"][\"Anillo Emperador\"]['Stats'],\n",
        "    Items[\"Pantalon\"][\"Botas acero\"]['Stats'], \n",
        "    Items[\"Armadura\"][\"Armadura completa\"]['Stats'],\n",
        "    Items[\"Escudo\"][\"Scutum\"]['Stats'], \n",
        "    Items[\"Arma\"][\"Gladius\"]['Stats'], \n",
        "    Items[\"Casco\"][\"Casco normal\"]['Stats'])"
      ]
    },
    {
      "cell_type": "code",
      "source": [
        "Items[\"Casco\"][\"Casco normal\"]['Stats']"
      ],
      "metadata": {
        "colab": {
          "base_uri": "https://localhost:8080/"
        },
        "id": "7COpPUJqPxWe",
        "outputId": "0819db8e-640b-4519-a197-b7c542b3803f"
      },
      "execution_count": null,
      "outputs": [
        {
          "output_type": "execute_result",
          "data": {
            "text/plain": [
              "array([[0, 1, 0, 0, 0, 0, 0],\n",
              "       [0, 0, 0, 0, 0, 0, 0]])"
            ]
          },
          "metadata": {},
          "execution_count": 29
        }
      ]
    },
    {
      "cell_type": "markdown",
      "source": [
        "#Teamfight 2v2\n",
        "\n",
        "\n"
      ],
      "metadata": {
        "id": "c1t59L6TpkAC"
      }
    },
    {
      "cell_type": "code",
      "source": [
        "def tf_2v2(jugador1, jugador2,jugador3, jugador4,\n",
        "           bonus1, bonus2, bonus3, bonus4,\n",
        "           accesorio1 ,pantalon1 ,armadura1, escudo_o_armasecundaria1 ,arma1 ,casco1 , \n",
        "           accesorio2 ,pantalon2 ,armadura2, escudo_o_armasecundaria2 ,arma2 ,casco2,\n",
        "           accesorio3, pantalon3 ,armadura3, escudo_o_armasecundaria3 ,arma3 ,casco3,\n",
        "           accesorio4 ,pantalon4 ,armadura4, escudo_o_armasecundaria4 ,arma4 ,casco4 \n",
        "           ):\n",
        "    vidaresultantepelea12 = pelea2(jugador1, jugador2, bonus1, bonus2, accesorio1 ,pantalon1 ,armadura1, escudo_o_armasecundaria1 ,arma1 ,casco1 , accesorio2 ,pantalon2 ,armadura2, escudo_o_armasecundaria2 ,arma2 ,casco2)\n",
        "    vidaresultantepelea34 = pelea2(jugador3, jugador4, bonus3, bonus4, accesorio3 ,pantalon3 ,armadura3, escudo_o_armasecundaria3 ,arma3 ,casco3 , accesorio4 ,pantalon4 ,armadura4, escudo_o_armasecundaria4 ,arma4 ,casco4)\n",
        "    jugador1[3] = vidaresultantepelea12[0]\n",
        "    jugador2[3] = vidaresultantepelea12[1]\n",
        "    jugador3[3]= vidaresultantepelea34[0]\n",
        "    jugador4[3] = vidaresultantepelea34[1]\n",
        "\n",
        "    if (jugador1[3] > 0) & (jugador3[3] > 0):\n",
        "        print(f\"gana el jugador 1 pues sus gladiadores salieron victoriosos en ambos combates\")\n",
        "    elif(jugador1[3] > 0):\n",
        "       vidaresultantepeleaFINAL = pelea2(jugador1, jugador4, bonus1, bonus4, accesorio1 ,pantalon1 ,armadura1, escudo_o_armasecundaria1 ,arma1 ,casco1 , accesorio4 ,pantalon4 ,armadura4, escudo_o_armasecundaria4 ,arma4 ,casco4)\n",
        "    elif(jugador3[3] > 0):\n",
        "        vidaresultantepeleaFINAL = pelea2(jugador2, jugador3, bonus2, bonus3, accesorio2 ,pantalon2 ,armadura2, escudo_o_armasecundaria2 ,arma2 ,casco2 , accesorio3 ,pantalon3 ,armadura3, escudo_o_armasecundaria3 ,arma3 ,casco3)\n",
        "    else:\n",
        "        print(f\"gana el jugador 2 pues sus gladiadores salieron victoriosos en ambos combates\")\n",
        "    return(vidaresultantepeleaFINAL)"
      ],
      "metadata": {
        "id": "m0SpjirGpkJa"
      },
      "execution_count": null,
      "outputs": []
    },
    {
      "cell_type": "code",
      "source": [
        "BonusNulo = np.array([0,0,0,0,0,0,0])\n",
        "tf_2v2(GLADIATORS_DICT['Murmillo'],\n",
        "       GLADIATORS_DICT['Tracio'],\n",
        "       GLADIATORS_DICT['Provocator'],\n",
        "       GLADIATORS_DICT['Scissor'],\n",
        "       BonusNulo,\n",
        "       BonusNulo,\n",
        "       BonusNulo,\n",
        "       BonusNulo, \n",
        "    Items[\"Accesorio\"][\"Anillo Emperador\"]['Stats'],\n",
        "    Items[\"Pantalon\"][\"Botas acero\"]['Stats'], \n",
        "    Items[\"Armadura\"][\"Armadura completa\"]['Stats'],\n",
        "    Items[\"Escudo\"][\"Scutum\"]['Stats'], \n",
        "    Items[\"Arma\"][\"Gladius\"]['Stats'], \n",
        "    Items[\"Casco\"][\"Casco normal\"]['Stats'],\n",
        "    Items[\"Accesorio\"][\"Anillo Emperador\"]['Stats'],\n",
        "    Items[\"Pantalon\"][\"Botas acero\"]['Stats'], \n",
        "    Items[\"Armadura\"][\"Armadura completa\"]['Stats'],\n",
        "    Items[\"Escudo\"][\"Scutum\"]['Stats'], \n",
        "    Items[\"Arma\"][\"Gladius\"]['Stats'], \n",
        "    Items[\"Casco\"][\"Casco normal\"]['Stats'],\n",
        "    Items[\"Accesorio\"][\"Anillo Emperador\"]['Stats'],\n",
        "    Items[\"Pantalon\"][\"Botas acero\"]['Stats'], \n",
        "    Items[\"Armadura\"][\"Armadura completa\"]['Stats'],\n",
        "    Items[\"Escudo\"][\"Scutum\"]['Stats'], \n",
        "    Items[\"Arma\"][\"Gladius\"]['Stats'], \n",
        "    Items[\"Casco\"][\"Casco normal\"]['Stats'],\n",
        "    Items[\"Accesorio\"][\"Anillo Emperador\"]['Stats'],\n",
        "    Items[\"Pantalon\"][\"Botas acero\"]['Stats'], \n",
        "    Items[\"Armadura\"][\"Armadura completa\"]['Stats'],\n",
        "    Items[\"Escudo\"][\"Scutum\"]['Stats'], \n",
        "    Items[\"Arma\"][\"Gladius\"]['Stats'], \n",
        "    Items[\"Casco\"][\"Casco normal\"]['Stats'])"
      ],
      "metadata": {
        "colab": {
          "base_uri": "https://localhost:8080/"
        },
        "id": "c4xiLhEANbfa",
        "outputId": "81fd9eba-f57a-4d1f-9be0-2cf535d9168d"
      },
      "execution_count": null,
      "outputs": [
        {
          "output_type": "stream",
          "name": "stdout",
          "text": [
            " El gladiador Tracio sale victorioso con 73 puntos de vida finales\n",
            " El gladiador Provocator sale victorioso con 31 puntos de vida finales\n",
            "El gladiador Provocator acesta un golpe por 40 daño\n",
            "El gladiador Tracio acesta un golpe por 54 daño\n",
            "El gladiador Provocator acesta un golpe por 33 daño\n",
            " El gladiador Provocator sale victorioso con 12 puntos de vida finales\n"
          ]
        },
        {
          "output_type": "execute_result",
          "data": {
            "text/plain": [
              "array([-4, 12])"
            ]
          },
          "metadata": {},
          "execution_count": 37
        }
      ]
    },
    {
      "cell_type": "markdown",
      "metadata": {
        "id": "TLpOXuzjQCKB"
      },
      "source": [
        "#Class and dictionaries implemented\n",
        "class BaseGladiator\\\n",
        "class FIghtersTuple\\\n",
        "GLADIATORS_DICT\\\n",
        "WEAPONS_DICT"
      ]
    },
    {
      "cell_type": "code",
      "execution_count": null,
      "metadata": {
        "id": "zeHrNAoIxIn5"
      },
      "outputs": [],
      "source": [
        "# fuerza, armadura, destreza, vida, rango, stun #\n",
        "class BaseGladiator:\n",
        "    def __init__(self, atributos):\n",
        "        self.fuerza = atributos[0]\n",
        "        self.armadura = atributos[1]\n",
        "        self.destreza = atributos[2]\n",
        "        self.vida = atributos[3]\n",
        "        self.rango = atributos[4]\n",
        "        self.stun = atributos[5]\n",
        "        self.orden = atributos[6]\n",
        "\n",
        "\n",
        "class FightersTuple:\n",
        "    def __init__(self, player1, player2):\n",
        "        self.fuerza = np.array([player1.fuerza, player2.fuerza])\n",
        "        self.armadura = np.array([player1.armadura, player2.armadura])\n",
        "        self.destreza = np.array([player1.destreza, player2.destreza])\n",
        "        self.vida = np.array([player1.vida, player2.vida])\n",
        "        self.rango = np.array([player1.rango, player2.rango])\n",
        "        self.stun = np.array([player1.stun, player2.stun])\n",
        "\n",
        "GLADIATORS_DICT = dict(\n",
        "Scissor = np.array([ 85  , 37 ,  64 , 114 ,  0 ,  2  , 0]),\n",
        "Murmillo = np.array([ 53 , 67 , 20  , 160 ,  0 ,  2 ,  1]),\n",
        "Tracio = np.array(np.array([ 82 , 37 , 48 ,133  , 0 ,  2  , 2])),\n",
        "Hoplomachis = np.array([53, 44, 80, 113, 1, 2,3]),\n",
        "Provocator = np.array([ 59 , 62 , 49 , 130 ,  0 ,  2 ,  4]),\n",
        "Reciario = np.array([10, 30, 55, 110,  1, 15,5]),\n",
        "Crupellarius = np.array([45, 75, 35, 145,  0, 2,6]),\n",
        "Cestus = np.array([ 46 , 49 , 50, 100 ,  0 , 15 ,  7]),\n",
        "Lauquerius = np.array([72, 36, 48, 89,  0, 15,  8]),\n",
        "Secutor = np.array([ 53 , 66 , 40 , 141 ,  0 ,  2  , 9]),\n",
        ")\n",
        "\n",
        "GLADIATORS_NAMES_LIST = ('Scissor' ,\n",
        "'Murmillo',\n",
        "'Tracio',\n",
        "'Hoplomachis',\n",
        "'Provocator',\n",
        "'Reciario',\n",
        "'Crupellarius',\n",
        "'Cestus',\n",
        "'Lauquerius',\n",
        "'Secutor',)\n",
        "##stun vale 55, rango vale 10 rango y stun vale 95"
      ]
    },
    {
      "cell_type": "code",
      "source": [
        "Items = {'Accesorio': {'Amuleto de Lauquerius': {'ID': '001',\n",
        "                                    'Stats': np.array([[0,0,2,0,0,0,0],[0,0,0,0,0,0,0]]),\n",
        "                                    'Excusivo':'Lauquerius'},\n",
        "                             \n",
        "                            'Amuleto en forma de espada': {'ID':'002',\n",
        "                                    'Stats': np.array([[1,0,0,0,0,0,0],[0,0,0,0,0,0,0]]),\n",
        "                                    'Exclusivo': 'None'},\n",
        "                             \n",
        "                            'Anillo Emperador': {'ID': '003',\n",
        "                                    'Stats': np.array([[-1,-1,3,0,0,0,0],[0,0,0,0,0,0,0]]),\n",
        "                                    'Exclusivo': 'None'},\n",
        "                             \n",
        "                            'Aumeleto con escudos y 2 espadas': {'ID': '004',\n",
        "                                    'Stats': np.array([[1,1,-1,0,0,0,0],[0,0,0,0,0,0,0]]),\n",
        "                                    'Exclusivo': 'None'},\n",
        "                             \n",
        "                            'Anillo romano': {'ID': '005',\n",
        "                                    'Stats': np.array([[-1,0,-1,3,0,0,0],[0,0,0,0,0,0,0]]),\n",
        "                                    'Exclusivo': 'None'},\n",
        "\n",
        "                            'Aumelto lunar': {'ID': '006',\n",
        "                                    'Stats': np.array([[0,-1,2,0,0,0,0],[0,0,0,0,0,0,0]]),\n",
        "                                    'Exclusivo': 'None'},\n",
        "                             \n",
        "                            'Brasalete romano': {'ID': '007',\n",
        "                                    'Stats': np.array([[0,0,2,0,0,0,0],[0,0,0,0,0,0,0]]),\n",
        "                                    'Exclusivo': 'None'},\n",
        "                             \n",
        "                            'Cinturon de Tracio': {'ID': '007',\n",
        "                                    'Stats': np.array([[0,0,2,0,0,0,0],[0,0,0,0,0,0,0]]),\n",
        "                                    'Exclusivo': 'Tracio'},\n",
        "                             \n",
        "                            'Colgante de casco de Murmillo': {'ID': '007',\n",
        "                                    'Stats': np.array([[0,0,2,0,0,0,0],[0,0,0,0,0,0,0]]),\n",
        "                                    'Exclusivo': 'Murmillo'},\n",
        "                             \n",
        "                            'Grebas': {'ID': '008',\n",
        "                                    'Stats': np.array([[0,0,2,0,0,0,0],[0,0,0,0,0,0,0]]),\n",
        "                                    'Exclusivo': 'None'},\n",
        "                             \n",
        "                            'Ocrea': {'ID': '009',\n",
        "                                    'Stats': np.array([[0,0,2,0,0,0,0],[0,0,0,0,0,0,0]]),\n",
        "                                    'Exclusivo': 'None'},\n",
        "                             \n",
        "                             \n",
        "                             'Colgante gladiador victorioso': {'ID': '010',\n",
        "                                    'Stats': np.array([[0,0,2,0,0,0,0],[0,0,0,0,0,0,0]]),\n",
        "                                    'Exclusivo': 'None'}\n",
        "                            },\n",
        "         'Arma':{ 'Caestus': {'ID':'001',\n",
        "                             'Stats':np.array([[2,0,0,0,0,0,0],[0,0,0,0,0,0,0]]),\n",
        "                             'Exclusivo': 'Cestus'},\n",
        "                 'Cinqueada': {'ID':'002',\n",
        "                             'Stats':np.array([[1,0,1,-1,0,0,0],[0,0,0,0,0,0,0]]),\n",
        "                             'Exclusivo': 'None'},\n",
        "                 'Dory lanza': {'ID':'003',\n",
        "                             'Stats':np.array([[2,0,0,0,0,0,0],[0,0,0,0,0,0,0]]),\n",
        "                             'Exclusivo': 'Hoplomachis'},\n",
        "                 'Fascina tridente':{'ID':'004',\n",
        "                             'Stats':np.array([[1,1,0,0,0,0,0],[0,0,0,0,0,0,0]]),\n",
        "                             'Exclusivo': 'Reciario'},\n",
        "                 'Gladius': {'ID':'004',\n",
        "                             'Stats':np.array([[1,0,0,0,0,0,0],[0,0,0,0,0,0,0]]),\n",
        "                             'Exclusivo': 'None'},\n",
        "                 'Hacha doble filo': {'ID':'005',\n",
        "                             'Stats':np.array([[2,-1,0,0,0,0,0],[0,0,0,0,0,0,0]]),\n",
        "                             'Exclusivo': 'None'},\n",
        "                 'Hachas de guerra': {'ID':'006',\n",
        "                             'Stats':np.array([[3,-1,-1,0,0,0,0],[0,0,0,0,0,0,0]]),\n",
        "                             'Exclusivo': 'None'},\n",
        "                 'Latigo': {'ID':'007',\n",
        "                             'Stats':np.array([[2,0,0,0,0,0,0],[0,0,0,0,0,0,0]]),\n",
        "                             'Exclusivo': 'Laquearius'},\n",
        "                 'Martillo de guerra': {'ID':'008',\n",
        "                             'Stats':np.array([[3,-2,0,0,0,0,0],[0,0,0,0,0,0,0]]),\n",
        "                             'Exclusivo': 'None'},\n",
        "                 'Morning star': {'ID':'009',\n",
        "                             'Stats':np.array([[1,0,1,-1,0,0,0],[0,0,0,0,0,0,0]]),\n",
        "                             'Exclusivo': 'None'},\n",
        "                 'Morning star cadena': {'ID':'010',\n",
        "                             'Stats':np.array([[2,-1,2,-2,0,0,0],[0,0,0,0,0,0,0]]),\n",
        "                             'Exclusivo': 'None'},\n",
        "                 'Pugio': {'ID':'011',\n",
        "                             'Stats':np.array([[1,-1,3,-2,0,0,0],[0,0,0,0,0,0,0]]),\n",
        "                             'Exclusivo': 'None'},\n",
        "                 'Red': {'ID':'012',\n",
        "                             'Stats':np.array([[0,0,1,1,0,0,0],[0,0,0,0,0,0,0]]),\n",
        "                             'Exclusivo': 'Reciario'},\n",
        "                 'Sica': {'ID':'013',\n",
        "                             'Stats':np.array([[1,-1,0,0,0,0,0],[0,1,0,0,0,0,0]]),\n",
        "                             'Exclusivo': 'None'},\n",
        "                 'Spatha': {'ID':'014',\n",
        "                             'Stats':np.array([[2,0,-1,0,0,0,0],[0,0,0,0,0,0,0]]),\n",
        "                             'Exclusivo': 'None'},\n",
        "                 'Tijeras': {'ID':'015',\n",
        "                             'Stats':np.array([[1,0,0,0,0,0,0],[0,1,0,0,0,0,0]]),\n",
        "                             'Exclusivo': 'Scissor'},\n",
        "                 },\n",
        "         'Armadura':{'Armadura completa': {'ID':'001',\n",
        "                             'Stats':np.array([[-1,3,-2,1,0,0,0],[0,0,0,0,0,0,0]]),\n",
        "                             'Exclusivo': 'None'},\n",
        "                     'Armadura de Tauro': {'ID':'002',\n",
        "                             'Stats':np.array([[1,2,-2,0,0,0,0],[0,0,0,0,0,0,0]]),\n",
        "                             'Exclusivo': 'None'},\n",
        "                     'Cardiophylax': {'ID':'003',\n",
        "                             'Stats':np.array([[1,1,0,-1,0,0,0],[0,0,0,0,0,0,0]]),\n",
        "                             'Exclusivo': 'None'},\n",
        "                     'Destiny leather': {'ID':'004',\n",
        "                             'Stats':np.array([[-1,0,3,-1,0,0,0],[0,0,0,0,0,0,0]]),\n",
        "                             'Exclusivo': 'None'},\n",
        "                     'Laminar armour': {'ID':'005',\n",
        "                             'Stats':np.array([[-1,1,1,0,0,0,0],[0,0,0,0,0,0,0]]),\n",
        "                             'Exclusivo': 'None'},\n",
        "                     'Lorica Hamata': {'ID':'006',\n",
        "                             'Stats':np.array([[-2,1,1,1,0,0,0],[0,0,0,0,0,0,0]]),\n",
        "                             'Exclusivo': 'None'},\n",
        "                     'Lorica segmentada': {'ID':'007',\n",
        "                             'Stats':np.array([[-1,-1,-1,4,0,0,0],[0,0,0,0,0,0,0]]),\n",
        "                             'Exclusivo': 'None'},\n",
        "                     'Lorica solaris': {'ID':'008',\n",
        "                             'Stats':np.array([[-1,1,0,1,0,0,0],[0,0,0,0,0,0,0]]),\n",
        "                             'Exclusivo': 'None'},\n",
        "                     'Lorica squamata': {'ID':'009',\n",
        "                             'Stats':np.array([[-1,1,-1,2,0,0,0],[0,0,0,0,0,0,0]]),\n",
        "                             'Exclusivo': 'None'},\n",
        "                     'Manica': {'ID':'010',\n",
        "                             'Stats':np.array([[0,1,0,1,0,0,0],[0,0,0,0,0,0,0]]),\n",
        "                             'Exclusivo': 'Provocator'},\n",
        "                     'Tunica': {'ID':'011',\n",
        "                             'Stats':np.array([[0,-1,3,-1,0,0,0],[0,0,0,0,0,0,0]]),\n",
        "                             'Exclusivo': 'None'},\n",
        "                     },\n",
        "        'Casco':{'Casco Cestus': {'ID': '001',\n",
        "                            'Stats': np.array([[0,0,2,0,0,0,0],[0,0,0,0,0,0,0]]),\n",
        "                            'Excusivo':'Cestus'},\n",
        "\n",
        "                    'Casco Hoplomacus': {'ID':'002',\n",
        "                            'Stats': np.array([[0,0,2,0,0,0,0],[0,0,0,0,0,0,0]]),\n",
        "                            'Exclusivo': 'Hoplomachi'},\n",
        "\n",
        "                    'Casco Scissor': {'ID': '003',\n",
        "                            'Stats': np.array([[0,0,2,0,0,0,0],[0,0,0,0,0,0,0]]),\n",
        "                            'Exclusivo': 'Scissor'},\n",
        "\n",
        "                    'Casco Secutor': {'ID': '004',\n",
        "                            'Stats': np.array([[0,1,0,1,0,0,0],[0,0,0,0,0,0,0]]),\n",
        "                            'Exclusivo': 'Secutor'},\n",
        "\n",
        "                    'Casco normal': {'ID': '005',\n",
        "                            'Stats': np.array([[0,1,0,0,0,0,0],[0,0,0,0,0,0,0]]),\n",
        "                            'Exclusivo': 'None'},\n",
        "                    'Casco Plumas ': {'ID': '006',\n",
        "                                    'Stats': np.array([[1,0,1,0,0,0,0],[0,0,0,0,0,0,0]]),\n",
        "                                    'Exclusivo': 'Provocator'},\n",
        "                    'Casco skyrim': {'ID': '007',\n",
        "                                    'Stats': np.array([[-1,1,-1,2,0,0,0],[0,0,0,0,0,0,0]]),\n",
        "                                    'Exclusivo': 'None'},\n",
        "                    'Cassis Crista Murmillo': {'ID': '008',\n",
        "                                    'Stats': np.array([[0,2,0,0,0,0,0],[0,0,0,0,0,0,0]]),\n",
        "                                    'Exclusivo': 'Murmillo'} ,  \n",
        "                    'Cassis Crista Tracio': {'ID': '009',\n",
        "                                    'Stats': np.array([[0,0,1,1,0,0,0],[0,0,0,0,0,0,0]]),\n",
        "                                    'Exclusivo': 'Tracio'} ,  \n",
        "                    'Galea con cresta ': {'ID': '010',\n",
        "                                    'Stats': np.array([[0,0,1,0,0,0,0],[0,0,0,0,0,0,0]]),\n",
        "                                    'Exclusivo': 'None'} ,  \n",
        "                    'Galea sin cresta ': {'ID': '011',\n",
        "                                    'Stats': np.array([[0,0,0,1,0,0,0],[0,0,0,0,0,0,0]]),\n",
        "                                    'Exclusivo': 'None'} ,\n",
        "                    'Great Helmet': {'ID': '012',\n",
        "                                    'Stats': np.array([[0,0,0,2,0,0,0],[0,0,0,0,0,0,0]]),\n",
        "                                    'Exclusivo': 'Crupellarius'} ,                    \n",
        "       },              \n",
        "        'Escudo':{'Cetratus': {'ID': '001',\n",
        "                                    'Stats': np.array([[0,1,-1,1,0,0,0],[0,0,0,0,0,0,0]]),\n",
        "                                    'Exclusivo': 'None'},\n",
        "                    'Escudo contundente': {'ID': '002',\n",
        "                                    'Stats': np.array([[0,0,1,0,0,0,0],[0,0,0,0,0,0,0]]),\n",
        "                                    'Exclusivo': 'None'},\n",
        "                    'Escudo de Sol': {'ID': '003',\n",
        "                                    'Stats': np.array([[0,1,-1,1,0,0,0],[0,0,0,0,0,0,0]]),\n",
        "                                    'Exclusivo': 'None'} ,  \n",
        "                    'Lucero': {'ID': '004',\n",
        "                                    'Stats': np.array([[0,0,0,1,0,0,0],[0,0,0,0,0,0,0]]),\n",
        "                                    'Exclusivo': 'None'} ,  \n",
        "                    'Parma': {'ID': '005',\n",
        "                                    'Stats': np.array([[-1,1,1,0,0,0,0],[0,0,0,0,0,0,0]]),\n",
        "                                    'Exclusivo': 'None'} ,  \n",
        "                    'Scutum': {'ID': '006',\n",
        "                                    'Stats': np.array([[-1,3,-1,0,0,0,0],[0,0,0,0,0,0,0]]),\n",
        "                                    'Exclusivo': 'None'} ,\n",
        "                    'looyar escudo': {'ID': '007',\n",
        "                                    'Stats': np.array([[0,1,0,0,0,0,0],[0,0,0,0,0,0,0]]),\n",
        "                                    'Exclusivo': 'None'} ,                    \n",
        "       },         \n",
        "        'Pantalon':{'Botas acero': {'ID': '001',\n",
        "                                    'Stats': np.array([[1,-1,1,0,0,0,0],[0,0,0,0,0,0,0]]),\n",
        "                                    'Exclusivo': 'None'},\n",
        "                    'Botas largas metal': {'ID': '002',\n",
        "                                    'Stats': np.array([[1,1,-2,1,0,0,0],[0,0,0,0,0,0,0]]),\n",
        "                                    'Exclusivo': 'None'},\n",
        "                    'Loincloth': {'ID': '003',\n",
        "                                    'Stats': np.array([[0,0,1,0,0,0,0],[0,0,0,0,0,0,0]]),\n",
        "                                    'Exclusivo': 'None'} ,  \n",
        "                    'Pantalon completo': {'ID': '004',\n",
        "                                    'Stats': np.array([[0,2,0,0,0,0,0],[0,0,0,0,0,0,0]]),\n",
        "                                    'Exclusivo': 'Crupellarius'} ,  \n",
        "                    'Sandalias romanas': {'ID': '005',\n",
        "                                    'Stats': np.array([[0,-1,2,0,0,0,0],[0,0,0,0,0,0,0]]),\n",
        "                                    'Exclusivo': 'None'} ,  \n",
        "                    'Tobillera Leon': {'ID': '006',\n",
        "                                    'Stats': np.array([[0,1,0,1,0,0,0],[0,0,0,0,0,0,0]]),\n",
        "                                    'Exclusivo': 'Secutor'} ,\n",
        "                    'Balteus cinturon': {'ID': '007',\n",
        "                                    'Stats': np.array([[0,0,0,1,0,0,0],[0,0,0,0,0,0,0]]),\n",
        "                                    'Exclusivo': 'None'} ,                    \n",
        "       }\n",
        "\n",
        "               }\n"
      ],
      "metadata": {
        "id": "zhmrnStfwhwm"
      },
      "execution_count": null,
      "outputs": []
    },
    {
      "cell_type": "markdown",
      "metadata": {
        "id": "fPZGUFQthyAS"
      },
      "source": [
        "sample equip"
      ]
    },
    {
      "cell_type": "code",
      "execution_count": null,
      "metadata": {
        "colab": {
          "base_uri": "https://localhost:8080/"
        },
        "id": "TRlVxMq-F1Bh",
        "outputId": "1bc77e89-5832-4a97-aab6-8017f10f48ea"
      },
      "outputs": [
        {
          "name": "stdout",
          "output_type": "stream",
          "text": [
            "[[1 0 3 1 0 0 0]\n",
            " [0 1 0 0 0 0 0]] [[-1  5  1  1  0  0  0]\n",
            " [ 0  0  0  0  0  0  0]]\n"
          ]
        }
      ],
      "source": [
        "equipo_Scissor = np.array(WEAPONS_DICT['Grebas_accesorio_tier1']) + np.array(WEAPONS_DICT['Loincloth_accesorio_tier1'])+ np.array(WEAPONS_DICT['Tijeras_arma_scissor_tier1']) + np.array(WEAPONS_DICT['Gladius_arma_tier1']) + np.array(WEAPONS_DICT['Casco_Scissor_tier1']) + np.array(WEAPONS_DICT['LaminarArmou_armadura_tier1'])\n",
        "equipo_Tracio = np.array(WEAPONS_DICT['Grebas_accesorio_tier1']) + np.array(WEAPONS_DICT['Loincloth_accesorio_tier1'])+ np.array(WEAPONS_DICT['Scutum_escudo_tier1']) + np.array(WEAPONS_DICT['Gladius_arma_tier1']) + np.array(WEAPONS_DICT['CasisCrista_casco_Tracio_tier1']) + np.array(WEAPONS_DICT['LaminarArmou_armadura_tier1'])\n",
        "print(equipo_Scissor,equipo_Tracio )"
      ]
    },
    {
      "cell_type": "markdown",
      "metadata": {
        "id": "v4NjXQmEhjfF"
      },
      "source": [
        "#Random Bonus Asignment"
      ]
    },
    {
      "cell_type": "code",
      "execution_count": null,
      "metadata": {
        "colab": {
          "base_uri": "https://localhost:8080/"
        },
        "id": "wz5HWKbj24LJ",
        "outputId": "0dde3906-f576-4346-9d04-9938ab952657"
      },
      "outputs": [
        {
          "output_type": "stream",
          "name": "stdout",
          "text": [
            "[0 1 1 0 0 0 0] [1 0 2 1 0 0 0]\n"
          ]
        }
      ],
      "source": [
        "#@title\n",
        "#def Bonus(*arg):\n",
        "bonus1 = np.array([0,0,0,0,0,0,0])\n",
        "bonus2 = np.array([0,0,0,0,0,0,0])\n",
        "i = np.random.randint(5)\n",
        "i2 = np.random.randint(5)\n",
        "for j in range(i):\n",
        "    k = np.random.randint(4)\n",
        "    bonus1[k] += 1\n",
        "for j in range(i2):\n",
        "    k = np.random.randint(4)\n",
        "    bonus2[k] += 1\n",
        "\n",
        "#    return(bonus)\n",
        "print(bonus1, bonus2)"
      ]
    },
    {
      "cell_type": "code",
      "source": [
        "def levelup(item, boolean):\n",
        "    bonus = np.array([0,0,0,0,0,0,0])\n",
        "    if boolean == 0:\n",
        "        k = np.random.randint(4)\n",
        "    else:\n",
        "        k = np.argmax(item['Stats'])\n",
        "    bonus[k] += 1\n",
        "    return(bonus)"
      ],
      "metadata": {
        "id": "VG5fMfCe1VWV"
      },
      "execution_count": null,
      "outputs": []
    },
    {
      "cell_type": "code",
      "source": [
        "bonusej = levelup(Items[\"Arma\"][\"Red\"],1)\n",
        "print(bonusej)"
      ],
      "metadata": {
        "colab": {
          "base_uri": "https://localhost:8080/"
        },
        "id": "Y4-XFMb69W-j",
        "outputId": "a1105f31-f9aa-4f37-c54d-9dcfac204c86"
      },
      "execution_count": null,
      "outputs": [
        {
          "output_type": "stream",
          "name": "stdout",
          "text": [
            "[0 0 1 0 0 0 0]\n"
          ]
        }
      ]
    },
    {
      "cell_type": "markdown",
      "metadata": {
        "id": "eyu2kg89nf_l"
      },
      "source": [
        "#Examples, test and samples\n"
      ]
    },
    {
      "cell_type": "code",
      "execution_count": null,
      "metadata": {
        "id": "JzasC4nPHb6-"
      },
      "outputs": [],
      "source": [
        "equipo_Scissor = np.array([[4, 0 ,0 ,0, 0, 0 ,0],\n",
        " [0, 2, 0, 0, 0, 0 ,0]])\n",
        "equipo_Murmillo = np.array([[1, 4, 0,1, 0, 0 ,0],\n",
        " [0, 0,0, 0, 0, 0 ,0]])"
      ]
    },
    {
      "cell_type": "code",
      "execution_count": null,
      "metadata": {
        "colab": {
          "base_uri": "https://localhost:8080/"
        },
        "id": "1iULxyzmoPGv",
        "outputId": "b70a4532-4661-4a50-dbf7-46b786349143"
      },
      "outputs": [
        {
          "output_type": "stream",
          "name": "stdout",
          "text": [
            "(array([ 89,  37,  64, 114,   0,   2,   0]), array([ 54,  67,  20, 161,   0,   2,   1]))\n"
          ]
        }
      ],
      "source": [
        "TEst = premath(GLADIATORS_DICT['Scissor'], GLADIATORS_DICT['Murmillo'], BonusNulo,BonusNulo,equipo_Scissor , equipo_Murmillo)\n",
        "print(TEst)"
      ]
    },
    {
      "cell_type": "code",
      "execution_count": null,
      "metadata": {
        "colab": {
          "base_uri": "https://localhost:8080/"
        },
        "id": "m6reqd37GEeu",
        "outputId": "b8a7d9a0-757d-404d-ceb5-4bebfc46ef83"
      },
      "outputs": [
        {
          "data": {
            "text/plain": [
              "array([5324, 4676])"
            ]
          },
          "execution_count": 28,
          "metadata": {},
          "output_type": "execute_result"
        }
      ],
      "source": [
        "simulacion(TEst[0], TEst[1],10000)"
      ]
    },
    {
      "cell_type": "code",
      "execution_count": null,
      "metadata": {
        "id": "RXd7pqVBGfpR"
      },
      "outputs": [],
      "source": [
        "simulacion(GLADIATORS_DICT['Scissor'],GLADIATORS_DICT['Murmillo'], 10000)"
      ]
    },
    {
      "cell_type": "code",
      "execution_count": null,
      "metadata": {
        "colab": {
          "base_uri": "https://localhost:8080/"
        },
        "id": "jtR5Ec3qGjAW",
        "outputId": "659f7ac4-1426-47b2-c447-bbcb4291538f"
      },
      "outputs": [
        {
          "output_type": "stream",
          "name": "stdout",
          "text": [
            "El gladiador Murmillo acesta un golpe por 63 daño\n",
            "El gladiador Scissor acesta un golpe por 58 daño\n",
            "El gladiador Murmillo acesta un golpe por 50 daño\n",
            "El gladiador Scissor acesta un golpe por 23 daño\n",
            "El gladiador Murmillo acesta un golpe por 30 daño\n"
          ]
        },
        {
          "output_type": "execute_result",
          "data": {
            "text/plain": [
              "array([-29,  80])"
            ]
          },
          "metadata": {},
          "execution_count": 20
        }
      ],
      "source": [
        "pelea3(TEst[0], TEst[1])"
      ]
    },
    {
      "cell_type": "code",
      "source": [
        "daga_index = {014, 024 }\n",
        "sword_index = {017, 026, 027, 028}\n",
        "axes_idnex ={018, 019}\n",
        "hammer_index = {21}\n",
        "morningstar_index = {22, 23}"
      ],
      "metadata": {
        "id": "YmKnxbpI4q0H"
      },
      "execution_count": null,
      "outputs": []
    },
    {
      "cell_type": "code",
      "source": [
        "Items[\"Accesorio\"][\"Anillo Emperador\"][\"Stats\"]"
      ],
      "metadata": {
        "colab": {
          "base_uri": "https://localhost:8080/"
        },
        "id": "VKxg3yAawlhK",
        "outputId": "67dd9690-5e3e-46f3-c8d1-7cce8d21bad4"
      },
      "execution_count": null,
      "outputs": [
        {
          "output_type": "execute_result",
          "data": {
            "text/plain": [
              "array([[-1, -1,  3,  0,  0,  0,  0],\n",
              "       [ 0,  0,  0,  0,  0,  0,  0]])"
            ]
          },
          "metadata": {},
          "execution_count": 7
        }
      ]
    },
    {
      "cell_type": "code",
      "source": [
        "equipito = equip(Items[\"Accesorio\"][\"Anillo Emperador\"],\n",
        "                Items[\"Pantalon\"][\"Botas acero\"], \n",
        "                Items[\"Armadura\"][\"Armadura completa\"],\n",
        "                Items[\"Escudo\"][\"Scutum\"], \n",
        "                Items[\"Arma\"][\"Gladius\"], \n",
        "                Items[\"Casco\"][\"Casco normal\"]\n",
        "                )\n",
        "print(equipito)"
      ],
      "metadata": {
        "colab": {
          "base_uri": "https://localhost:8080/"
        },
        "id": "tK8w35rg0WjF",
        "outputId": "820ad30e-dcb2-48ec-c0b8-3347e80c981b"
      },
      "execution_count": null,
      "outputs": [
        {
          "output_type": "stream",
          "name": "stdout",
          "text": [
            "[[-1  5  1  1  0  0  0]\n",
            " [ 0  0  0  0  0  0  0]]\n"
          ]
        }
      ]
    },
    {
      "cell_type": "code",
      "execution_count": null,
      "metadata": {
        "colab": {
          "base_uri": "https://localhost:8080/"
        },
        "id": "ncqjCaeO9Tyi",
        "outputId": "a75bc963-18ad-4b16-b8b8-2558aaec767e"
      },
      "outputs": [
        {
          "output_type": "stream",
          "name": "stdout",
          "text": [
            "Stats de Scissor:\n",
            "{'fuerza': 85, 'armadura': 37, 'destreza': 64, 'vida': 114, 'rango': 0, 'stun': 2, 'orden': 0}\n",
            "Stats de Murmillo:\n",
            "{'fuerza': 53, 'armadura': 67, 'destreza': 20, 'vida': 160, 'rango': 0, 'stun': 2, 'orden': 1}\n",
            "Stats de Tracio:\n",
            "{'fuerza': 82, 'armadura': 37, 'destreza': 48, 'vida': 133, 'rango': 0, 'stun': 2, 'orden': 2}\n",
            "Stats de Hoplomachis:\n",
            "{'fuerza': 53, 'armadura': 44, 'destreza': 80, 'vida': 113, 'rango': 1, 'stun': 2, 'orden': 3}\n",
            "Stats de Provocator:\n",
            "{'fuerza': 59, 'armadura': 62, 'destreza': 49, 'vida': 130, 'rango': 0, 'stun': 2, 'orden': 4}\n",
            "Stats de Reciario:\n",
            "{'fuerza': 10, 'armadura': 30, 'destreza': 55, 'vida': 110, 'rango': 1, 'stun': 15, 'orden': 5}\n",
            "Stats de Crupellarius:\n",
            "{'fuerza': 45, 'armadura': 75, 'destreza': 35, 'vida': 145, 'rango': 0, 'stun': 2, 'orden': 6}\n",
            "Stats de Cestus:\n",
            "{'fuerza': 46, 'armadura': 49, 'destreza': 50, 'vida': 100, 'rango': 0, 'stun': 15, 'orden': 7}\n",
            "Stats de Lauquerius:\n",
            "{'fuerza': 72, 'armadura': 36, 'destreza': 48, 'vida': 89, 'rango': 0, 'stun': 15, 'orden': 8}\n",
            "Stats de Secutor:\n",
            "{'fuerza': 53, 'armadura': 66, 'destreza': 40, 'vida': 141, 'rango': 0, 'stun': 2, 'orden': 9}\n"
          ]
        }
      ],
      "source": [
        "for (gladiador) in GLADIATORS_DICT.keys():\n",
        "    player1 = BaseGladiator(GLADIATORS_DICT[gladiador])\n",
        "    print(f'Stats de {gladiador}:')\n",
        "    print(player1.__dict__)"
      ]
    },
    {
      "cell_type": "markdown",
      "metadata": {
        "id": "M3YnA2olOAUU"
      },
      "source": [
        "#simulacion function\n",
        "used to run $n$ fights between $player1$ and $player2$"
      ]
    },
    {
      "cell_type": "code",
      "execution_count": null,
      "metadata": {
        "id": "wIwzUCghC_ZX"
      },
      "outputs": [],
      "source": [
        "#@title\n",
        "def simulacion(player1, player2, n):\n",
        "  rv = np.array([0, 0])\n",
        "  for k in range(n):\n",
        "        round = pelea(player1, player2)\n",
        "        #print(rv)\n",
        "        if round[0] > round[1]:\n",
        "            rv[0] += 1\n",
        "        else:\n",
        "            rv[1] += 1\n",
        "  return(rv)\n",
        "    \n"
      ]
    },
    {
      "cell_type": "markdown",
      "metadata": {
        "id": "FxytDapLhRw3"
      },
      "source": [
        "#Big all-vs-all simulation"
      ]
    },
    {
      "cell_type": "code",
      "execution_count": null,
      "metadata": {
        "id": "vGB3zWeui3jd",
        "colab": {
          "base_uri": "https://localhost:8080/",
          "height": 234
        },
        "outputId": "3bda172a-fb69-4dc7-851f-18ac08ca077f"
      },
      "outputs": [
        {
          "output_type": "error",
          "ename": "NameError",
          "evalue": "ignored",
          "traceback": [
            "\u001b[0;31m---------------------------------------------------------------------------\u001b[0m",
            "\u001b[0;31mNameError\u001b[0m                                 Traceback (most recent call last)",
            "\u001b[0;32m<ipython-input-12-2804695f63a5>\u001b[0m in \u001b[0;36m<module>\u001b[0;34m()\u001b[0m\n\u001b[1;32m      2\u001b[0m \u001b[0mB\u001b[0m \u001b[0;34m=\u001b[0m \u001b[0mnp\u001b[0m\u001b[0;34m.\u001b[0m\u001b[0mzeros\u001b[0m\u001b[0;34m(\u001b[0m\u001b[0;34m(\u001b[0m\u001b[0;36m10\u001b[0m\u001b[0;34m,\u001b[0m\u001b[0;36m10\u001b[0m\u001b[0;34m)\u001b[0m\u001b[0;34m)\u001b[0m\u001b[0;34m\u001b[0m\u001b[0;34m\u001b[0m\u001b[0m\n\u001b[1;32m      3\u001b[0m \u001b[0;34m\u001b[0m\u001b[0m\n\u001b[0;32m----> 4\u001b[0;31m \u001b[0;32mfor\u001b[0m \u001b[0;34m(\u001b[0m\u001b[0mgladiador1\u001b[0m\u001b[0;34m,\u001b[0m \u001b[0mgladiador2\u001b[0m\u001b[0;34m)\u001b[0m \u001b[0;32min\u001b[0m \u001b[0mcombinations\u001b[0m\u001b[0;34m(\u001b[0m\u001b[0mGLADIATORS_DICT\u001b[0m\u001b[0;34m.\u001b[0m\u001b[0mkeys\u001b[0m\u001b[0;34m(\u001b[0m\u001b[0;34m)\u001b[0m\u001b[0;34m,\u001b[0m \u001b[0;36m2\u001b[0m\u001b[0;34m)\u001b[0m\u001b[0;34m:\u001b[0m\u001b[0;34m\u001b[0m\u001b[0;34m\u001b[0m\u001b[0m\n\u001b[0m\u001b[1;32m      5\u001b[0m     \u001b[0msimul\u001b[0m \u001b[0;34m=\u001b[0m \u001b[0msimulacion\u001b[0m\u001b[0;34m(\u001b[0m\u001b[0mGLADIATORS_DICT\u001b[0m\u001b[0;34m[\u001b[0m\u001b[0mgladiador1\u001b[0m\u001b[0;34m]\u001b[0m\u001b[0;34m,\u001b[0m \u001b[0mGLADIATORS_DICT\u001b[0m\u001b[0;34m[\u001b[0m\u001b[0mgladiador2\u001b[0m\u001b[0;34m]\u001b[0m\u001b[0;34m,\u001b[0m \u001b[0;36m1000000\u001b[0m\u001b[0;34m)\u001b[0m\u001b[0;34m\u001b[0m\u001b[0;34m\u001b[0m\u001b[0m\n\u001b[1;32m      6\u001b[0m     \u001b[0mplayer1\u001b[0m \u001b[0;34m=\u001b[0m \u001b[0mBaseGladiator\u001b[0m\u001b[0;34m(\u001b[0m\u001b[0mGLADIATORS_DICT\u001b[0m\u001b[0;34m[\u001b[0m\u001b[0mgladiador1\u001b[0m\u001b[0;34m]\u001b[0m\u001b[0;34m)\u001b[0m\u001b[0;34m\u001b[0m\u001b[0;34m\u001b[0m\u001b[0m\n",
            "\u001b[0;31mNameError\u001b[0m: name 'GLADIATORS_DICT' is not defined"
          ]
        }
      ],
      "source": [
        "A = np.zeros((10,10))\n",
        "B = np.zeros((10,10))\n",
        "\n",
        "for (gladiador1, gladiador2) in combinations(GLADIATORS_DICT.keys(), 2):\n",
        "    simul = simulacion(GLADIATORS_DICT[gladiador1], GLADIATORS_DICT[gladiador2], 1000000)\n",
        "    player1 = BaseGladiator(GLADIATORS_DICT[gladiador1])\n",
        "    player2 = BaseGladiator(GLADIATORS_DICT[gladiador2])\n",
        "    print(f' {gladiador1} {simul[0]} vs {gladiador2} {simul[1]}')\n",
        "    A[player1.orden, player2.orden] = simul[0]\n",
        "    A[player2.orden, player1.orden] = simul[1]\n",
        "\n",
        "print(A)\n",
        "\n",
        "for i in range(10):\n",
        "    for j in range(10):\n",
        "        if (A[i,j] > 530000) & (i != j) :\n",
        "           B[i,j] = 1\n",
        "        elif (A[i,j] < 470000) & (i != j):\n",
        "            B[i,j] = -1\n",
        "\n",
        "b=np.sum(B,axis=1)\n",
        "a=np.sum(A,axis=1)\n",
        "\n",
        "print(f'el vector suma es{a}')\n",
        "print(B)\n",
        "print(f'el vector suma es{b}')"
      ]
    },
    {
      "cell_type": "markdown",
      "metadata": {
        "id": "2GBttPGGg5fk"
      },
      "source": [
        "#Pie Plot\n",
        "Pie plot of 1kk simulation of every gladiator without equip or bonus"
      ]
    },
    {
      "cell_type": "markdown",
      "metadata": {
        "id": "mZpx4fucdTW4"
      },
      "source": [
        "Actual\n"
      ]
    },
    {
      "cell_type": "code",
      "source": [
        "#este es el actual!\n",
        "import plotly.graph_objects as go\n",
        "\n",
        "labels = ['Scissor', 'Murmillo', 'Tracio', 'Hoplomachis', 'Provocator', 'Reciario', 'Crupellarius', 'Cestus', 'Lauquerius', 'Secutor']\n",
        "values = [4514708, 4614288, 4514906, 4402654, 4562032, 4533075, 4412468, 4575796, 4421672, 4448401]\n",
        "fig = go.Figure(data=[go.Pie(labels=labels, values=values, hole=.3)])\n",
        "fig.show()"
      ],
      "metadata": {
        "colab": {
          "base_uri": "https://localhost:8080/",
          "height": 542
        },
        "id": "BGlWKNvXyldV",
        "outputId": "fce06afd-36aa-419d-90c9-a127f4ebe8d3"
      },
      "execution_count": null,
      "outputs": [
        {
          "output_type": "display_data",
          "data": {
            "text/html": [
              "<html>\n",
              "<head><meta charset=\"utf-8\" /></head>\n",
              "<body>\n",
              "    <div>            <script src=\"https://cdnjs.cloudflare.com/ajax/libs/mathjax/2.7.5/MathJax.js?config=TeX-AMS-MML_SVG\"></script><script type=\"text/javascript\">if (window.MathJax) {MathJax.Hub.Config({SVG: {font: \"STIX-Web\"}});}</script>                <script type=\"text/javascript\">window.PlotlyConfig = {MathJaxConfig: 'local'};</script>\n",
              "        <script src=\"https://cdn.plot.ly/plotly-2.8.3.min.js\"></script>                <div id=\"7a3f47ae-c26d-43cb-aefd-7193679ee67f\" class=\"plotly-graph-div\" style=\"height:525px; width:100%;\"></div>            <script type=\"text/javascript\">                                    window.PLOTLYENV=window.PLOTLYENV || {};                                    if (document.getElementById(\"7a3f47ae-c26d-43cb-aefd-7193679ee67f\")) {                    Plotly.newPlot(                        \"7a3f47ae-c26d-43cb-aefd-7193679ee67f\",                        [{\"hole\":0.3,\"labels\":[\"Scissor\",\"Murmillo\",\"Tracio\",\"Hoplomachis\",\"Provocator\",\"Reciario\",\"Crupellarius\",\"Cestus\",\"Lauquerius\",\"Secutor\"],\"values\":[4514708,4614288,4514906,4402654,4562032,4533075,4412468,4575796,4421672,4448401],\"type\":\"pie\"}],                        {\"template\":{\"data\":{\"bar\":[{\"error_x\":{\"color\":\"#2a3f5f\"},\"error_y\":{\"color\":\"#2a3f5f\"},\"marker\":{\"line\":{\"color\":\"#E5ECF6\",\"width\":0.5},\"pattern\":{\"fillmode\":\"overlay\",\"size\":10,\"solidity\":0.2}},\"type\":\"bar\"}],\"barpolar\":[{\"marker\":{\"line\":{\"color\":\"#E5ECF6\",\"width\":0.5},\"pattern\":{\"fillmode\":\"overlay\",\"size\":10,\"solidity\":0.2}},\"type\":\"barpolar\"}],\"carpet\":[{\"aaxis\":{\"endlinecolor\":\"#2a3f5f\",\"gridcolor\":\"white\",\"linecolor\":\"white\",\"minorgridcolor\":\"white\",\"startlinecolor\":\"#2a3f5f\"},\"baxis\":{\"endlinecolor\":\"#2a3f5f\",\"gridcolor\":\"white\",\"linecolor\":\"white\",\"minorgridcolor\":\"white\",\"startlinecolor\":\"#2a3f5f\"},\"type\":\"carpet\"}],\"choropleth\":[{\"colorbar\":{\"outlinewidth\":0,\"ticks\":\"\"},\"type\":\"choropleth\"}],\"contour\":[{\"colorbar\":{\"outlinewidth\":0,\"ticks\":\"\"},\"colorscale\":[[0.0,\"#0d0887\"],[0.1111111111111111,\"#46039f\"],[0.2222222222222222,\"#7201a8\"],[0.3333333333333333,\"#9c179e\"],[0.4444444444444444,\"#bd3786\"],[0.5555555555555556,\"#d8576b\"],[0.6666666666666666,\"#ed7953\"],[0.7777777777777778,\"#fb9f3a\"],[0.8888888888888888,\"#fdca26\"],[1.0,\"#f0f921\"]],\"type\":\"contour\"}],\"contourcarpet\":[{\"colorbar\":{\"outlinewidth\":0,\"ticks\":\"\"},\"type\":\"contourcarpet\"}],\"heatmap\":[{\"colorbar\":{\"outlinewidth\":0,\"ticks\":\"\"},\"colorscale\":[[0.0,\"#0d0887\"],[0.1111111111111111,\"#46039f\"],[0.2222222222222222,\"#7201a8\"],[0.3333333333333333,\"#9c179e\"],[0.4444444444444444,\"#bd3786\"],[0.5555555555555556,\"#d8576b\"],[0.6666666666666666,\"#ed7953\"],[0.7777777777777778,\"#fb9f3a\"],[0.8888888888888888,\"#fdca26\"],[1.0,\"#f0f921\"]],\"type\":\"heatmap\"}],\"heatmapgl\":[{\"colorbar\":{\"outlinewidth\":0,\"ticks\":\"\"},\"colorscale\":[[0.0,\"#0d0887\"],[0.1111111111111111,\"#46039f\"],[0.2222222222222222,\"#7201a8\"],[0.3333333333333333,\"#9c179e\"],[0.4444444444444444,\"#bd3786\"],[0.5555555555555556,\"#d8576b\"],[0.6666666666666666,\"#ed7953\"],[0.7777777777777778,\"#fb9f3a\"],[0.8888888888888888,\"#fdca26\"],[1.0,\"#f0f921\"]],\"type\":\"heatmapgl\"}],\"histogram\":[{\"marker\":{\"pattern\":{\"fillmode\":\"overlay\",\"size\":10,\"solidity\":0.2}},\"type\":\"histogram\"}],\"histogram2d\":[{\"colorbar\":{\"outlinewidth\":0,\"ticks\":\"\"},\"colorscale\":[[0.0,\"#0d0887\"],[0.1111111111111111,\"#46039f\"],[0.2222222222222222,\"#7201a8\"],[0.3333333333333333,\"#9c179e\"],[0.4444444444444444,\"#bd3786\"],[0.5555555555555556,\"#d8576b\"],[0.6666666666666666,\"#ed7953\"],[0.7777777777777778,\"#fb9f3a\"],[0.8888888888888888,\"#fdca26\"],[1.0,\"#f0f921\"]],\"type\":\"histogram2d\"}],\"histogram2dcontour\":[{\"colorbar\":{\"outlinewidth\":0,\"ticks\":\"\"},\"colorscale\":[[0.0,\"#0d0887\"],[0.1111111111111111,\"#46039f\"],[0.2222222222222222,\"#7201a8\"],[0.3333333333333333,\"#9c179e\"],[0.4444444444444444,\"#bd3786\"],[0.5555555555555556,\"#d8576b\"],[0.6666666666666666,\"#ed7953\"],[0.7777777777777778,\"#fb9f3a\"],[0.8888888888888888,\"#fdca26\"],[1.0,\"#f0f921\"]],\"type\":\"histogram2dcontour\"}],\"mesh3d\":[{\"colorbar\":{\"outlinewidth\":0,\"ticks\":\"\"},\"type\":\"mesh3d\"}],\"parcoords\":[{\"line\":{\"colorbar\":{\"outlinewidth\":0,\"ticks\":\"\"}},\"type\":\"parcoords\"}],\"pie\":[{\"automargin\":true,\"type\":\"pie\"}],\"scatter\":[{\"marker\":{\"colorbar\":{\"outlinewidth\":0,\"ticks\":\"\"}},\"type\":\"scatter\"}],\"scatter3d\":[{\"line\":{\"colorbar\":{\"outlinewidth\":0,\"ticks\":\"\"}},\"marker\":{\"colorbar\":{\"outlinewidth\":0,\"ticks\":\"\"}},\"type\":\"scatter3d\"}],\"scattercarpet\":[{\"marker\":{\"colorbar\":{\"outlinewidth\":0,\"ticks\":\"\"}},\"type\":\"scattercarpet\"}],\"scattergeo\":[{\"marker\":{\"colorbar\":{\"outlinewidth\":0,\"ticks\":\"\"}},\"type\":\"scattergeo\"}],\"scattergl\":[{\"marker\":{\"colorbar\":{\"outlinewidth\":0,\"ticks\":\"\"}},\"type\":\"scattergl\"}],\"scattermapbox\":[{\"marker\":{\"colorbar\":{\"outlinewidth\":0,\"ticks\":\"\"}},\"type\":\"scattermapbox\"}],\"scatterpolar\":[{\"marker\":{\"colorbar\":{\"outlinewidth\":0,\"ticks\":\"\"}},\"type\":\"scatterpolar\"}],\"scatterpolargl\":[{\"marker\":{\"colorbar\":{\"outlinewidth\":0,\"ticks\":\"\"}},\"type\":\"scatterpolargl\"}],\"scatterternary\":[{\"marker\":{\"colorbar\":{\"outlinewidth\":0,\"ticks\":\"\"}},\"type\":\"scatterternary\"}],\"surface\":[{\"colorbar\":{\"outlinewidth\":0,\"ticks\":\"\"},\"colorscale\":[[0.0,\"#0d0887\"],[0.1111111111111111,\"#46039f\"],[0.2222222222222222,\"#7201a8\"],[0.3333333333333333,\"#9c179e\"],[0.4444444444444444,\"#bd3786\"],[0.5555555555555556,\"#d8576b\"],[0.6666666666666666,\"#ed7953\"],[0.7777777777777778,\"#fb9f3a\"],[0.8888888888888888,\"#fdca26\"],[1.0,\"#f0f921\"]],\"type\":\"surface\"}],\"table\":[{\"cells\":{\"fill\":{\"color\":\"#EBF0F8\"},\"line\":{\"color\":\"white\"}},\"header\":{\"fill\":{\"color\":\"#C8D4E3\"},\"line\":{\"color\":\"white\"}},\"type\":\"table\"}]},\"layout\":{\"annotationdefaults\":{\"arrowcolor\":\"#2a3f5f\",\"arrowhead\":0,\"arrowwidth\":1},\"autotypenumbers\":\"strict\",\"coloraxis\":{\"colorbar\":{\"outlinewidth\":0,\"ticks\":\"\"}},\"colorscale\":{\"diverging\":[[0,\"#8e0152\"],[0.1,\"#c51b7d\"],[0.2,\"#de77ae\"],[0.3,\"#f1b6da\"],[0.4,\"#fde0ef\"],[0.5,\"#f7f7f7\"],[0.6,\"#e6f5d0\"],[0.7,\"#b8e186\"],[0.8,\"#7fbc41\"],[0.9,\"#4d9221\"],[1,\"#276419\"]],\"sequential\":[[0.0,\"#0d0887\"],[0.1111111111111111,\"#46039f\"],[0.2222222222222222,\"#7201a8\"],[0.3333333333333333,\"#9c179e\"],[0.4444444444444444,\"#bd3786\"],[0.5555555555555556,\"#d8576b\"],[0.6666666666666666,\"#ed7953\"],[0.7777777777777778,\"#fb9f3a\"],[0.8888888888888888,\"#fdca26\"],[1.0,\"#f0f921\"]],\"sequentialminus\":[[0.0,\"#0d0887\"],[0.1111111111111111,\"#46039f\"],[0.2222222222222222,\"#7201a8\"],[0.3333333333333333,\"#9c179e\"],[0.4444444444444444,\"#bd3786\"],[0.5555555555555556,\"#d8576b\"],[0.6666666666666666,\"#ed7953\"],[0.7777777777777778,\"#fb9f3a\"],[0.8888888888888888,\"#fdca26\"],[1.0,\"#f0f921\"]]},\"colorway\":[\"#636efa\",\"#EF553B\",\"#00cc96\",\"#ab63fa\",\"#FFA15A\",\"#19d3f3\",\"#FF6692\",\"#B6E880\",\"#FF97FF\",\"#FECB52\"],\"font\":{\"color\":\"#2a3f5f\"},\"geo\":{\"bgcolor\":\"white\",\"lakecolor\":\"white\",\"landcolor\":\"#E5ECF6\",\"showlakes\":true,\"showland\":true,\"subunitcolor\":\"white\"},\"hoverlabel\":{\"align\":\"left\"},\"hovermode\":\"closest\",\"mapbox\":{\"style\":\"light\"},\"paper_bgcolor\":\"white\",\"plot_bgcolor\":\"#E5ECF6\",\"polar\":{\"angularaxis\":{\"gridcolor\":\"white\",\"linecolor\":\"white\",\"ticks\":\"\"},\"bgcolor\":\"#E5ECF6\",\"radialaxis\":{\"gridcolor\":\"white\",\"linecolor\":\"white\",\"ticks\":\"\"}},\"scene\":{\"xaxis\":{\"backgroundcolor\":\"#E5ECF6\",\"gridcolor\":\"white\",\"gridwidth\":2,\"linecolor\":\"white\",\"showbackground\":true,\"ticks\":\"\",\"zerolinecolor\":\"white\"},\"yaxis\":{\"backgroundcolor\":\"#E5ECF6\",\"gridcolor\":\"white\",\"gridwidth\":2,\"linecolor\":\"white\",\"showbackground\":true,\"ticks\":\"\",\"zerolinecolor\":\"white\"},\"zaxis\":{\"backgroundcolor\":\"#E5ECF6\",\"gridcolor\":\"white\",\"gridwidth\":2,\"linecolor\":\"white\",\"showbackground\":true,\"ticks\":\"\",\"zerolinecolor\":\"white\"}},\"shapedefaults\":{\"line\":{\"color\":\"#2a3f5f\"}},\"ternary\":{\"aaxis\":{\"gridcolor\":\"white\",\"linecolor\":\"white\",\"ticks\":\"\"},\"baxis\":{\"gridcolor\":\"white\",\"linecolor\":\"white\",\"ticks\":\"\"},\"bgcolor\":\"#E5ECF6\",\"caxis\":{\"gridcolor\":\"white\",\"linecolor\":\"white\",\"ticks\":\"\"}},\"title\":{\"x\":0.05},\"xaxis\":{\"automargin\":true,\"gridcolor\":\"white\",\"linecolor\":\"white\",\"ticks\":\"\",\"title\":{\"standoff\":15},\"zerolinecolor\":\"white\",\"zerolinewidth\":2},\"yaxis\":{\"automargin\":true,\"gridcolor\":\"white\",\"linecolor\":\"white\",\"ticks\":\"\",\"title\":{\"standoff\":15},\"zerolinecolor\":\"white\",\"zerolinewidth\":2}}}},                        {\"responsive\": true}                    ).then(function(){\n",
              "                            \n",
              "var gd = document.getElementById('7a3f47ae-c26d-43cb-aefd-7193679ee67f');\n",
              "var x = new MutationObserver(function (mutations, observer) {{\n",
              "        var display = window.getComputedStyle(gd).display;\n",
              "        if (!display || display === 'none') {{\n",
              "            console.log([gd, 'removed!']);\n",
              "            Plotly.purge(gd);\n",
              "            observer.disconnect();\n",
              "        }}\n",
              "}});\n",
              "\n",
              "// Listen for the removal of the full notebook cells\n",
              "var notebookContainer = gd.closest('#notebook-container');\n",
              "if (notebookContainer) {{\n",
              "    x.observe(notebookContainer, {childList: true});\n",
              "}}\n",
              "\n",
              "// Listen for the clearing of the current output cell\n",
              "var outputEl = gd.closest('.output');\n",
              "if (outputEl) {{\n",
              "    x.observe(outputEl, {childList: true});\n",
              "}}\n",
              "\n",
              "                        })                };                            </script>        </div>\n",
              "</body>\n",
              "</html>"
            ]
          },
          "metadata": {}
        }
      ]
    },
    {
      "cell_type": "markdown",
      "metadata": {
        "id": "wcob9-XbhHp7"
      },
      "source": [
        "#Semi-auto balance Heuristic"
      ]
    },
    {
      "cell_type": "code",
      "execution_count": null,
      "metadata": {
        "colab": {
          "background_save": true,
          "base_uri": "https://localhost:8080/"
        },
        "id": "rQjK7nB8CskP",
        "outputId": "49e883d4-cb9e-4fd8-dc05-b1e136a7d683",
        "cellView": "code"
      },
      "outputs": [
        {
          "name": "stdout",
          "output_type": "stream",
          "text": [
            "p1 es:1 con [ 62  59  49 130   0   2   4]\n",
            "p2 es:2 con [ 64  57  49 130   0   2   4]\n",
            "p1 es:1 con [ 61  60  49 130   0   2   4]\n",
            "p2 es:2 con [ 65  56  49 130   0   2   4]\n",
            "p1 es:0 con [ 60  61  49 130   0   2   4]\n",
            "p2 es:2 con [ 66  55  49 130   0   2   4]\n",
            "p1 es:0 con [ 59  62  49 130   0   2   4]\n",
            "p2 es:2 con [ 67  54  49 130   0   2   4]\n",
            "p1 es:1 con [ 62  58  50 130   0   2   4]\n",
            "p2 es:3 con [ 64  58  48 130   0   2   4]\n"
          ]
        }
      ],
      "source": [
        "#@title\n",
        "index = {0,1,2,3}\n",
        "p1 = 0\n",
        "p2 = 0\n",
        "for (i, j) in combinations(index, 2):\n",
        "    for k in range(4):\n",
        "        k = k+1\n",
        "        if ((GLADIATORS_DICT['Provocator'][j] - k) > 0) & ((GLADIATORS_DICT['Provocator'][i] - k) > 0):\n",
        "            aux1 =  np.array([ 63 , 58 , 49 ,130 ,  0 ,  2  , 4])\n",
        "            aux1[i] -= k\n",
        "            aux1[j] += k\n",
        "            aux2 =   np.array([ 63 , 58 , 49 ,130 ,  0 ,  2  , 4])\n",
        "            aux2[i] += k\n",
        "            aux2[j] -= k \n",
        "            for gladiador2 in GLADIATORS_DICT.keys():\n",
        "                simul1 = simulacion(aux1, GLADIATORS_DICT[gladiador2],1000000)\n",
        "                simul2 = simulacion(aux2, GLADIATORS_DICT[gladiador2],1000000)\n",
        "                if simul1[0] > 530000:\n",
        "                    p1 = p1 + 1\n",
        "                elif simul1[0] < 470000:\n",
        "                    p1 = p1 -1\n",
        "                if simul2[0] > 530000:\n",
        "                    p2 = p2 + 1\n",
        "                elif simul2[0] < 470000:\n",
        "                    p2 = p2 -1\n",
        "            print(f'p1 es:{p1} con {aux1}')\n",
        "            print(f'p2 es:{p2} con {aux2}')\n",
        "            p1 = 0\n",
        "            p2 = 0       "
      ]
    },
    {
      "cell_type": "code",
      "source": [
        "horarios = list(range(0, 23))\n",
        "primetime = list(range(0,3))\n",
        "distribucionfinal = []\n",
        "horario1 = random.choice(primetime)\n",
        "distribucionfinal.append(horario1)\n",
        "horarios.remove(horario1)\n",
        "primetime.remove(horario1)\n",
        "horario2 = random.choice(primetime)\n",
        "distribucionfinal.append(horario2)\n",
        "horarios.remove(horario2)\n",
        "primetime.remove(horario2)\n",
        "\n",
        "while len(horarios) > 1:\n",
        "    nuevohorario = random.choice(horarios)\n",
        "    distribucionfinal.append(nuevohorario)\n",
        "    horarios.remove(nuevohorario)\n",
        "    if horarios.count(nuevohorario + 1) > 0:\n",
        "        horarios.remove(nuevohorario + 1)\n",
        "        i = 1\n",
        "    elif horarios.count(nuevohorario - 1) > 0:\n",
        "        horarios.remove(nuevohorario - 1)\n",
        "        j = 1\n",
        "    nuevohorario2 = random.choice(horarios)\n",
        "    distribucionfinal.append(nuevohorario2)\n",
        "    horarios.remove(nuevohorario2)\n",
        "    if i == 1:\n",
        "        horarios.append(nuevohorario + 1)\n",
        "        i = 0\n",
        "    elif j == 1:\n",
        "        horarios.append(nuevohorario - 1)\n",
        "        j = 0\n",
        "    \n",
        "print(distribucionfinal)\n"
      ],
      "metadata": {
        "colab": {
          "base_uri": "https://localhost:8080/"
        },
        "id": "WRZ31LUh86Ln",
        "outputId": "593b44a8-5c7c-4725-e079-403a960347d1"
      },
      "execution_count": null,
      "outputs": [
        {
          "output_type": "stream",
          "name": "stdout",
          "text": [
            "[1, 0, 12, 17, 11, 2, 6, 8, 5, 14, 3, 18, 16, 22, 15, 13, 9, 19, 4, 20, 7, 21]\n"
          ]
        }
      ]
    }
  ],
  "metadata": {
    "colab": {
      "collapsed_sections": [],
      "name": "Balance05.ipynb",
      "provenance": [],
      "include_colab_link": true
    },
    "kernelspec": {
      "display_name": "Python 3",
      "name": "python3"
    },
    "language_info": {
      "name": "python"
    }
  },
  "nbformat": 4,
  "nbformat_minor": 0
}